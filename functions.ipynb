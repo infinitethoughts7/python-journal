{
 "cells": [
  {
   "cell_type": "markdown",
   "metadata": {
    "id": "UonQdJvIRdjB"
   },
   "source": [
    "# Functions"
   ]
  },
  {
   "cell_type": "markdown",
   "metadata": {
    "id": "ElXeZKXBuHOc"
   },
   "source": [
    "why do we need functions ?"
   ]
  },
  {
   "cell_type": "markdown",
   "metadata": {},
   "source": [
    " A function is a block of code that performs a specific task whenever it is called.\n",
    "  In bigger programs, where we have large amounts of code, it is advisable to create or use existing functions that make the program flow organized and neat.\n",
    "\n",
    "\n",
    " There are two types of functions:\n",
    "\n",
    " Built-in functions\n",
    " \n",
    " User-defined functions"
   ]
  },
  {
   "cell_type": "code",
   "execution_count": null,
   "metadata": {
    "colab": {
     "base_uri": "https://localhost:8080/"
    },
    "id": "rvynrUpuuKOM",
    "outputId": "1edc1ca2-adc7-4459-a211-440206e18630"
   },
   "outputs": [
    {
     "name": "stdout",
     "output_type": "stream",
     "text": [
      "Area of Rectangle 1: 50\n",
      "Area of Rectangle 2: 28\n",
      "Area of Rectangle 3: 48\n"
     ]
    }
   ],
   "source": [
    "# Calculate area for first rectangle\n",
    "width1 = 5\n",
    "height1 = 10\n",
    "area1 = width1 * height1\n",
    "print(\"Area of Rectangle 1:\", area1)\n",
    "\n",
    "# Calculate area for second rectangle\n",
    "width2 = 7\n",
    "height2 = 4\n",
    "area2 = width2 * height2\n",
    "print(\"Area of Rectangle 2:\", area2)\n",
    "\n",
    "# Calculate area for third rectangle\n",
    "width3 = 6\n",
    "height3 = 8\n",
    "area3 = width3 * height3\n",
    "print(\"Area of Rectangle 3:\", area3)\n",
    "\n",
    "# imagine for 100 squares\n",
    "# repitative\n",
    "# change everywhere\n",
    "# huge duplication"
   ]
  },
  {
   "cell_type": "code",
   "execution_count": null,
   "metadata": {
    "id": "5kwL0vLQu4Ag"
   },
   "outputs": [],
   "source": [
    "# how to fix this then ?\n",
    "def calculate_area(width, height):  # Function definition\n",
    "    return width * height  # Reusable logic\n",
    "\n",
    "# Calling the function for different inputs\n",
    "print(\"Area of Rectangle 1:\", calculate_area(5, 10))\n",
    "print(\"Area of Rectangle 2:\", calculate_area(7, 4))\n",
    "print(\"Area of Rectangle 3:\", calculate_area(6, 8))\n",
    "# more readable\n",
    "# no redundency\n",
    "# easy to change"
   ]
  },
  {
   "cell_type": "markdown",
   "metadata": {},
   "source": [
    "#### Def function & Calling "
   ]
  },
  {
   "cell_type": "code",
   "execution_count": 22,
   "metadata": {
    "id": "vczBEqrTm5AH"
   },
   "outputs": [],
   "source": [
    "# simple functions\n",
    "def make_maggi():\n",
    "    print(\"Boil water 🫗\")\n",
    "    print(\"Add noodles 🍜\")\n",
    "    print(\"Wait for 2 minutes (which is always 10) ⏳\")\n",
    "    print(\"Eat and regret 🍽️\") \n"
   ]
  },
  {
   "cell_type": "code",
   "execution_count": 24,
   "metadata": {
    "id": "_T2hjyR1vPWN"
   },
   "outputs": [
    {
     "name": "stdout",
     "output_type": "stream",
     "text": [
      "Hello, Guest!\n",
      "Hello, Charlie !\n",
      "<function greet at 0x10d884860>\n"
     ]
    }
   ],
   "source": [
    "def greet(name=\"Guest\"):\n",
    "    return f\"Hello, {name}!\"\n",
    "\n",
    "print(greet())  # Output: Hello, Guest!\n",
    "print(greet(\"Charlie \"))  # Output: Hello, Charlie!\n",
    "print(greet)\n",
    "# Deafault parameters"
   ]
  },
  {
   "cell_type": "markdown",
   "metadata": {
    "id": "37APbU9plyCI"
   },
   "source": [
    "**Functins with Parameters**"
   ]
  },
  {
   "cell_type": "code",
   "execution_count": 25,
   "metadata": {
    "colab": {
     "base_uri": "https://localhost:8080/"
    },
    "id": "tsEpedd0l5eX",
    "outputId": "7aa0192a-a79c-432a-bb33-468179c0eaa3"
   },
   "outputs": [
    {
     "name": "stdout",
     "output_type": "stream",
     "text": [
      "Boil water 🫗\n",
      "Add noodles 🍜\n",
      "Add extra spicy spice 🌶️\n",
      "Wait for 2 minutes ⏳\n",
      "Eat and regret 🍽️\n",
      "Boil water 🫗\n",
      "Add noodles 🍜\n",
      "Add mild spice 🌶️\n",
      "Wait for 2 minutes ⏳\n",
      "Eat and regret 🍽️\n"
     ]
    }
   ],
   "source": [
    "def make_maggi(spice_level): # passed an argument \n",
    "    print(\"Boil water 🫗\")\n",
    "    print(\"Add noodles 🍜\")  \n",
    "    print(f\"Add {spice_level} spice 🌶️\")\n",
    "    print(\"Wait for 2 minutes ⏳\")\n",
    "    print(\"Eat and regret 🍽️\")\n",
    "\n",
    "make_maggi(\"extra spicy\")  # 🔥🔥🔥\n",
    "make_maggi(\"mild\")         # 😌"
   ]
  },
  {
   "cell_type": "code",
   "execution_count": 4,
   "metadata": {
    "id": "qjNEXvTSvdkC"
   },
   "outputs": [
    {
     "name": "stdout",
     "output_type": "stream",
     "text": [
      "Hello, Guest!\n",
      "Hello, Charlie!\n"
     ]
    }
   ],
   "source": [
    "# default arguments\n",
    "def greet(name=\"Guest\"):\n",
    "    return f\"Hello, {name}!\"\n",
    "\n",
    "print(greet())  # Output: Hello, Guest!\n",
    "print(greet(\"Charlie\"))  # Output: Hello, Charlie!\n"
   ]
  },
  {
   "cell_type": "code",
   "execution_count": 30,
   "metadata": {
    "id": "UxGaawkkvqH2"
   },
   "outputs": [
    {
     "name": "stdout",
     "output_type": "stream",
     "text": [
      "12\n",
      "21\n",
      "hello , keerthi\n",
      "hello , bhumika\n",
      "hello , annie\n"
     ]
    }
   ],
   "source": [
    "# variable leght args\n",
    "def add_numbers(*numbers):  # *args takes multiple values\n",
    "    return sum(numbers)\n",
    "\n",
    "print(add_numbers(3, 4, 5))  # Output: 12\n",
    "print(add_numbers(1, 2, 3, 4, 5, 6))  # Output: 21\n",
    "\n",
    "def greet(*names):\n",
    "    for name in names:\n",
    "        print(f\"hello , {name}\")\n",
    "    \n",
    "greet('keerthi', 'bhumika', 'annie')\n"
   ]
  },
  {
   "cell_type": "code",
   "execution_count": 31,
   "metadata": {
    "id": "xecrJ2XPvt32"
   },
   "outputs": [
    {
     "name": "stdout",
     "output_type": "stream",
     "text": [
      "name: John\n",
      "age: 30\n",
      "city: New York\n",
      "hobby: coding\n",
      "hobby2: reading\n",
      "hobby3: sleeping\n",
      "hobby4: eating\n",
      "mobile: 1234567890\n",
      "email: john@example.com\n"
     ]
    }
   ],
   "source": [
    "# key-value arguments , forms ,API requests\n",
    "def print_info(**info):  # **kwargs takes key-value pairs\n",
    "    for key, value in info.items():\n",
    "        print(f\"{key}: {value}\")\n",
    "\n",
    "print_info(name=\"John\", age=30, city=\"New York\", hobby=\"coding\", hobby2=\"reading\", hobby3=\"sleeping\", hobby4=\"eating\", mobile=\"1234567890\", email=\"john@example.com\")\n"
   ]
  },
  {
   "cell_type": "markdown",
   "metadata": {},
   "source": [
    "# Types of Function Arguments "
   ]
  },
  {
   "cell_type": "code",
   "execution_count": null,
   "metadata": {},
   "outputs": [],
   "source": [
    "# There are four types of arguments that we can provide in a function:\n",
    "\n",
    "# Default Arguments\n",
    "# Keyword Arguments\n",
    "# Variable length Arguments\n",
    "# Required Arguments\n",
    "\n",
    "# Default arguments:\n",
    "def name(fname, mname = \"Chithra\", lname = \"Alle\"):\n",
    "    print(\"Hello,\", fname, mname, lname)\n",
    "\n",
    "name(\"Chithra\")\n",
    "\n",
    "\n",
    "# Keyword Arguments:\n",
    "def name(fname, mname, lname):\n",
    "    print(\"Hello,\", fname, mname, lname)\n",
    "\n",
    "name(mname = \"Chithra\", lname = \"Alle\", fname = \"Dr.\")\n",
    "\n",
    "# Required Arguments\n",
    "def name(fname, mname, lname):\n",
    "    print(\"Hello,\", fname, mname, lname)\n",
    "\n",
    "name(\"Peter\", \"Ego\", \"Quill\")\n",
    "\n",
    "# Variable-length arguments:\n",
    "# Sometimes we may need to pass more arguments than those defined in the actual function. \n",
    "# This can be done using variable-length arguments.\n",
    "# There are two ways to achieve this:\n",
    "\n",
    "# Arbitrary Arguments:\n",
    "def name(*name):\n",
    "    print(\"Hello,\", name[0], name[1], name[2])\n",
    "\n",
    "name(\"Dr.\", \"Chithra\", \"Alle\")\n",
    "\n",
    "# Keyword Arbitrary Arguments:\n",
    "def name(**name):\n",
    "    print(\"Hello,\", name[\"fname\"], name[\"mname\"], name[\"lname\"])\n",
    "\n",
    "name(mname = \"Dr.\", lname = \"Chithra\", fname = \"Alle\")\n"
   ]
  },
  {
   "cell_type": "markdown",
   "metadata": {
    "id": "CsM1heupgdP0"
   },
   "source": [
    "**Functions with return**"
   ]
  },
  {
   "cell_type": "code",
   "execution_count": 3,
   "metadata": {},
   "outputs": [
    {
     "name": "stdout",
     "output_type": "stream",
     "text": [
      "good morning\n",
      "good morning\n",
      "None\n"
     ]
    }
   ],
   "source": [
    "def greet():\n",
    "    print('good morning')\n",
    "\n",
    "greet()\n",
    "\n",
    "print(greet())"
   ]
  },
  {
   "cell_type": "code",
   "execution_count": null,
   "metadata": {
    "colab": {
     "base_uri": "https://localhost:8080/"
    },
    "id": "Swwuta81iBrm",
    "outputId": "348a3887-c769-479c-a84d-0086e9a299e7"
   },
   "outputs": [
    {
     "name": "stdout",
     "output_type": "stream",
     "text": [
      "Updated likes: 151\n"
     ]
    }
   ],
   "source": [
    "def update_likes(current_likes):\n",
    "    new_likes = current_likes + 1\n",
    "    return new_likes\n",
    "\n",
    "video_likes = 150\n",
    "video_likes = update_likes(video_likes)\n",
    "print(\"Updated likes:\", video_likes)\n",
    "print('')"
   ]
  },
  {
   "cell_type": "code",
   "execution_count": 17,
   "metadata": {},
   "outputs": [],
   "source": [
    "\n",
    "#Text Message Analyzer**\n",
    " #  You're building a messaging app feature. Write a function that takes a text message and returns:\n",
    " #  - Word count\n",
    " #  - Average word length\n",
    " #  - Percentage of words that are hashtags\n"
   ]
  },
  {
   "cell_type": "markdown",
   "metadata": {
    "id": "NEhkBmiJhXC4"
   },
   "source": [
    "**Lambda Functins**"
   ]
  },
  {
   "cell_type": "markdown",
   "metadata": {},
   "source": [
    " What is a Lambda Function?\n",
    " A lambda function in Python is an anonymous function that is defined using the lambda keyword.\n",
    " It can take multiple arguments but has only one expression.\n",
    "\n",
    "Syntax:\n",
    "  lambda arguments: expression\n",
    "\n",
    "**Rules for Lambda Functions in Python**\n",
    "\n",
    "1️⃣ Must Have Only One Expression\n",
    "\n",
    "      A lambda function cannot have multiple expressions or statements.\n",
    "      It evaluates a single expression and returns the result automatically.\n",
    "\n",
    "2️⃣ No Assignments Inside Lambda\n",
    "\n",
    "    You cannot use the = operator inside a lambda function.\n",
    "    If you need a variable assignment, use a normal function instead.\n",
    "\n",
    "3️⃣ Can Take Any Number of Arguments\n",
    "\n",
    "    A lambda function can accept multiple arguments, but it can only evaluate one expression.\n",
    "\n",
    "4️⃣ Cannot Have return\n",
    "\n",
    "    You cannot use return (implicit return is always used)."
   ]
  },
  {
   "cell_type": "code",
   "execution_count": null,
   "metadata": {},
   "outputs": [],
   "source": [
    "# CREATING MULTIPLICATION TABLE\n",
    "multiplication_table = lambda n: [n * i for i in range(1, 11)]\n",
    "\n",
    "print(multiplication_table(5))  \n",
    "# Output: [5, 10, 15, 20, 25, 30, 35, 40, 45, 50]"
   ]
  },
  {
   "cell_type": "code",
   "execution_count": null,
   "metadata": {},
   "outputs": [],
   "source": [
    "# SPLITTING LISTS\n",
    "Split = lambda lst: [mark for sublist in lst for mark in sublist]\n",
    "\n",
    "print(Split([[1, 2], [3, 4], [5, 6]]))  # Output: [1, 2, 3, 4, 5, 6]\n"
   ]
  },
  {
   "cell_type": "code",
   "execution_count": 1,
   "metadata": {},
   "outputs": [
    {
     "name": "stdout",
     "output_type": "stream",
     "text": [
      "50\n"
     ]
    }
   ],
   "source": [
    "area = lambda length, width: length * width\n",
    "print(area(5, 10))  \n"
   ]
  },
  {
   "cell_type": "code",
   "execution_count": null,
   "metadata": {
    "id": "2h-X3qKTv624"
   },
   "outputs": [],
   "source": [
    "square = lambda x: x * x\n",
    "print(square(5))  \n"
   ]
  },
  {
   "cell_type": "code",
   "execution_count": null,
   "metadata": {
    "id": "KNxXvSv_hkis"
   },
   "outputs": [],
   "source": [
    "apply_filter = lambda photo: f\"{photo} with vintage filter 🎨\"\n",
    "print(apply_filter(\"Selfie.jpg\"))"
   ]
  },
  {
   "cell_type": "code",
   "execution_count": null,
   "metadata": {},
   "outputs": [],
   "source": [
    "\n",
    "# 1.Shopping Cart Calculator\n",
    "# \n",
    "# You are developing an online store and need to create **lambda functions** to handle pricing calculations.\n",
    "# Implement the following:\n",
    "#\n",
    "# - A **lambda function** to calculate the total price **after applying a discount**.\n",
    "# - A **lambda function** to calculate the price **after adding sales tax**.\n",
    "# - A **lambda function** to determine the **shipping cost based on weight**.\n",
    "#\n",
    "# Example:\n",
    "# price = 100  # Price of the product\n",
    "# weight = 2.5  # Weight of the product in kg\n",
    "# discount_percent = 20  # Discount percentage\n",
    "# tax_rate = 0.08  # Sales tax rate (8%)\n",
    "# \n",
    "# # Shipping cost details:\n",
    "# # - Base shipping cost = 10 rupees\n",
    "# # - Additional cost = 2 rupees per kg\n",
    "#\n",
    "# # Write your lambda functions to handle these calculations!\n"
   ]
  },
  {
   "cell_type": "code",
   "execution_count": 15,
   "metadata": {},
   "outputs": [
    {
     "name": "stdout",
     "output_type": "stream",
     "text": [
      "True\n",
      "False\n"
     ]
    }
   ],
   "source": [
    "# You are building a social media platform and need a **super basic** \"toxicity filter.\"\n",
    "# You decide to use a **lambda function** to check if a comment contains \"bad words\" (super scientific method 😂).\n",
    "# \n",
    "# - Write a **lambda function** `is_toxic(comment)` that:\n",
    "#   - Returns **True** if the comment contains any of these \"toxic\" words: [\"stupid\", \"boring\", \"lame\"]\n",
    "#   - Otherwise, returns **False**.\n",
    "# \n",
    "# - Test it with different comments!\n",
    "# \n",
    "# Example Usage:\n",
    "# print(is_toxic(\"This movie is so stupid!\"))  # Output: True\n",
    "# print(is_toxic(\"I love this song!\"))        # Output: False\n",
    "\n",
    "\n"
   ]
  },
  {
   "cell_type": "markdown",
   "metadata": {
    "id": "A3j7pizzgYyT"
   },
   "source": [
    "**Nestd Functions**"
   ]
  },
  {
   "cell_type": "markdown",
   "metadata": {},
   "source": [
    "A nested function is a function that is defined inside another function. The inner function is local to the outer function, meaning it cannot be accessed directly from outside.\n",
    "\n",
    "Nested functions in Python are powerful tools for encapsulation, scope control, and reusability. They help organize code by keeping helper functions private, accessing outer variables through closures, and modifying them using nonlocal."
   ]
  },
  {
   "cell_type": "code",
   "execution_count": null,
   "metadata": {},
   "outputs": [],
   "source": [
    "def outer_function(x):\n",
    "    # This is the outer function\n",
    "    def inner_function(y):\n",
    "        # This is the nested (inner) function\n",
    "        return y * 2  # Multiply input by 2\n",
    "    \n",
    "    result = inner_function(x)  # Call the inner function\n",
    "    return result + 3  # Add 3 to the result of the inner function\n",
    "\n",
    "# Example Usage\n",
    "print(outer_function(5)) "
   ]
  },
  {
   "cell_type": "code",
   "execution_count": null,
   "metadata": {
    "colab": {
     "base_uri": "https://localhost:8080/"
    },
    "id": "TOwbEePlbWV6",
    "outputId": "868cee57-27f9-4c3f-f0c6-b3122e1505c2"
   },
   "outputs": [
    {
     "name": "stdout",
     "output_type": "stream",
     "text": [
      "Roommate A is sweeping 🧹\n",
      "Roommate B is washing clothes 🧺\n",
      "Roommate C is organizing books 📚\n",
      "You take credit for 'managing' 🤭\n"
     ]
    }
   ],
   "source": [
    "# Nested functions\n",
    "def clean_room():\n",
    "    def sweep_floor():\n",
    "        print(\"Roommte A is sweeping 🧹\")\n",
    "\n",
    "    def do_laundry():\n",
    "        print(\"Roommate B is washing clothes 🧺\")\n",
    "\n",
    "    def arrange_books():\n",
    "        print(\"Roommate C is organizing books 📚\")\n",
    "\n",
    "    sweep_floor()\n",
    "    do_laundry()\n",
    "    arrange_books()\n",
    "    print(\"You take credit for 'managing' 🤭\")\n",
    "\n",
    "clean_room()\n"
   ]
  },
  {
   "cell_type": "code",
   "execution_count": null,
   "metadata": {},
   "outputs": [],
   "source": [
    "# Example \n",
    "def authenticate(username, password):\n",
    "    def check_credentials():\n",
    "        stored_username = \"admin\"\n",
    "        stored_password = \"password123\"\n",
    "        return username == stored_username and password == stored_password\n",
    "    \n",
    "    return check_credentials\n",
    "\n",
    "login_attempt = authenticate(\"admin\", \"password123\")\n",
    "if login_attempt():\n",
    "    print(\"Login Successful!\")  # Output: Login Successful!\n",
    "else:\n",
    "    print(\"Invalid Credentials\")\n"
   ]
  },
  {
   "cell_type": "code",
   "execution_count": null,
   "metadata": {},
   "outputs": [],
   "source": [
    "# example\n",
    "def smart_home(device):\n",
    "    def control(action):\n",
    "        if device == \"AC\":\n",
    "            return f\"AC turned {'ON' if action == 'on' else 'OFF'}\"\n",
    "        elif device == \"tempcontrol\":\n",
    "            return f\"Temperature set to {action}°C\"\n",
    "        else:\n",
    "            return \"Device not recognized\"\n",
    "    \n",
    "    return control\n",
    "\n",
    "ac_control = smart_home(\"AC\")\n",
    "temp_control = smart_home(\"tempcontrol\")\n",
    "\n",
    "print(ac_control(\"on\"))      # Output: AC turned ON\n",
    "print(temp_control(22))    # Output: Temperature set to 22°C\n"
   ]
  },
  {
   "cell_type": "code",
   "execution_count": null,
   "metadata": {},
   "outputs": [],
   "source": [
    "# example\n",
    "def sentiment_analyzer():\n",
    "    def analyze(text):\n",
    "        positive_words = [\"good\", \"excellent\", \"amazing\", \"happy\"]\n",
    "        negative_words = [\"bad\", \"terrible\", \"sad\", \"angry\"]\n",
    "        \n",
    "        if any(word in text.lower() for word in positive_words):\n",
    "            return \"Positive Sentiment 😊\"\n",
    "        elif any(word in text.lower() for word in negative_words):\n",
    "            return \"Negative Sentiment 😞\"\n",
    "        else:\n",
    "            return \"Neutral Sentiment 😐\"\n",
    "    \n",
    "    return analyze\n",
    "\n",
    "analyze_sentiment = sentiment_analyzer()\n",
    "print(analyze_sentiment(\"The movie was amazing!\"))  # Output: Positive Sentiment 😊\n",
    "print(analyze_sentiment(\"I feel so sad today.\"))    # Output: Negative Sentiment 😞\n"
   ]
  },
  {
   "cell_type": "code",
   "execution_count": null,
   "metadata": {},
   "outputs": [],
   "source": []
  },
  {
   "cell_type": "code",
   "execution_count": null,
   "metadata": {
    "id": "cpbnfke25Qe6"
   },
   "outputs": [],
   "source": [
    "# write a function to check the hostel security , \n",
    "# should have two functions , grant access , deny access\n",
    "# give the access if the password is rgukt123 \n"
   ]
  },
  {
   "cell_type": "code",
   "execution_count": null,
   "metadata": {},
   "outputs": [],
   "source": [
    "# You are building a social media app that allows users to create posts with formatted text.\n",
    "# Write a function `create_post_formatter(format_type)` that:\n",
    "# - Defines a nested function `formatter(text)`.\n",
    "# - If `format_type` is `\"uppercase\"`, `formatter` should return the text in uppercase.\n",
    "# - If `format_type` is `\"hashtags\"`, `formatter` should convert the words into hashtags (e.g., \"hello world\" → \"#hello #world\").\n",
    "# - The outer function should return `formatter`.\n",
    "\n",
    "# Example Usage:\n",
    "# uppercase_formatter = create_post_formatter(\"uppercase\")\n",
    "# print(uppercase_formatter(\"good morning\"))  # Output: \"GOOD MORNING\"\n",
    "# hashtag_formatter = create_post_formatter(\"hashtags\")\n",
    "# print(hashtag_formatter(\"social media trends\"))  # Output: \"#social #media #trends\"\n"
   ]
  },
  {
   "cell_type": "markdown",
   "metadata": {
    "id": "30alG2ATgRgF"
   },
   "source": [
    "**Function as an argument**"
   ]
  },
  {
   "cell_type": "code",
   "execution_count": null,
   "metadata": {},
   "outputs": [],
   "source": [
    "def greet(name, format_func):\n",
    "    return format_func(name)\n",
    "\n",
    "# Example function: Uppercase name\n",
    "def uppercase_name(name):\n",
    "    return name.upper()\n",
    "\n",
    "print(greet(\"Alice\", uppercase_name))  "
   ]
  },
  {
   "cell_type": "code",
   "execution_count": null,
   "metadata": {},
   "outputs": [],
   "source": [
    "def calculate(a, b, operation):\n",
    "    return operation(a, b)\n",
    "\n",
    "# Example functions\n",
    "def add(x, y):\n",
    "    return x + y\n",
    "\n",
    "def multiply(x, y):\n",
    "    return x * y\n",
    "\n",
    "print(calculate(3, 4, add))       \n",
    "print(calculate(3, 4, multiply))  \n"
   ]
  },
  {
   "cell_type": "code",
   "execution_count": 10,
   "metadata": {
    "colab": {
     "base_uri": "https://localhost:8080/"
    },
    "id": "GS99vYcVZSwK",
    "outputId": "c76c7431-46ee-402d-92c7-f2f99648fd25"
   },
   "outputs": [
    {
     "name": "stdout",
     "output_type": "stream",
     "text": [
      "Copied: Completed Assignment ✅ 😈\n"
     ]
    }
   ],
   "source": [
    "# function as a argument :\n",
    "def do_assignment():\n",
    "    return \"Completed Assignment ✅\"\n",
    "\n",
    "def copy_assignment(work_function):\n",
    "    copied_work = work_function()\n",
    "    return f\"Copied: {copied_work} 😈\"\n",
    "\n",
    "print(copy_assignment(do_assignment))"
   ]
  },
  {
   "cell_type": "code",
   "execution_count": null,
   "metadata": {},
   "outputs": [],
   "source": [
    "# 1. **Apply Operation on List Elements**\n",
    "# Write a function `apply_to_list"
   ]
  },
  {
   "cell_type": "code",
   "execution_count": null,
   "metadata": {},
   "outputs": [],
   "source": [
    "# 1. **Apply Operation on List Elements**\n",
    "# Write a function `apply_to_list(lst, operation_func)` that:\n",
    "# - Takes a **list of numbers** `lst` and an **operation function** `operation_func`.\n",
    "# - Applies the operation function to each element in the list and returns the new list.\n",
    "#\n",
    "# Example operation functions:\n",
    "# - A function that **doubles each number** in the list.\n",
    "# - A function that **squares each number** in the list.\n",
    "#\n",
    "# Example Usage:\n",
    "# print(apply_to_list([1, 2, 3, 4], double))  # Output: [2, 4, 6, 8]\n",
    "# print(apply_to_list([1, 2, 3, 4], square))  # Output: [1, 4, 9, 16]\n"
   ]
  },
  {
   "cell_type": "code",
   "execution_count": null,
   "metadata": {},
   "outputs": [],
   "source": [
    "# 2. **Prime Number Check**\n",
    "# Write a function `check_prime(number, prime_func)` that:\n",
    "# - Takes a **number** and a **prime-check function** `prime_func`.\n",
    "# - Uses the `prime_func` to check if the number is **prime** or **not prime**.\n",
    "#\n",
    "# Example prime check functions:\n",
    "# - A function that checks if the number is a **prime number**.\n",
    "# - A function that checks if the number is a **composite number** (i.e., not prime).\n",
    "#\n",
    "# Example Usage:\n",
    "# print(check_prime(7, is_prime))        # Output: True (7 is prime)\n",
    "# print(check_prime(8, is_composite))    # Output: True (8 is composite)\n"
   ]
  },
  {
   "cell_type": "code",
   "execution_count": null,
   "metadata": {},
   "outputs": [],
   "source": [
    "# Youtube\n",
    "def check_comment(comment):\n",
    "    bad_words = [\"hate\", \"stupid\", \"ugly\"]\n",
    "    return any(word in comment.lower() for word in bad_words)\n",
    "\n",
    "def moderate_comments(comment_list, filter_function):\n",
    "    return [comment for comment in comment_list if not filter_function(comment)]\n",
    "\n",
    "comments = [\"Great video!\", \"This is stupid!\", \"Love this content!\"]\n",
    "clean_comments = moderate_comments(comments, check_comment)\n",
    "\n",
    "print(clean_comments)  # ['Great video!', 'Love this content!']\n",
    "\n",
    "#The internet : where people type what they would never say in real life"
   ]
  },
  {
   "cell_type": "markdown",
   "metadata": {
    "id": "1Idg48EnfoyU"
   },
   "source": [
    "**Recursive functions**\n",
    "\n",
    "   A recursive function is a function that calls itself to solve a complex problem by breaking it down\n",
    "   into smaller subproblems.\n",
    "\n",
    "**How It Works?**\n",
    "\n",
    "   1. A function keeps calling itself with smaller inputs.\n",
    "\n",
    "   2. It must have a base condition to stop recursion.\n",
    "   \n",
    "   3. Each recursive call is stored in stack memory until the base condition is met.\n",
    "\n",
    "**Key Rules For Python**\n",
    "\n",
    "  1️⃣ **Every Recursive Function Must Have a Base Case**\n",
    "\n",
    "    * The base case is a condition that stops the recursion.\n",
    "    * Without it, the function will keep calling itself indefinitely, causing a stack overflow error.\n",
    "\n",
    "  2️⃣ **Each Recursive Call Should Reduce the Problem Size**\n",
    "\n",
    "    * The function must modify its input in each call so that it moves closer to the base case.\n",
    "    * This ensures that recursion does not run infinitely.\n",
    "\n",
    "   3️⃣ **Uses the Call Stack for Execution**\n",
    "\n",
    "    * Each recursive call is stored in the function call stack until the base case is reached.\n",
    "    * Once the base case is met, the calls start resolving in reverse order (LIFO - Last In, First Out).\n",
    "\n",
    "   4️⃣ **Can Be Less Efficient Than Iteration in memory Usage**\n",
    "\n",
    "    * Recursion can use more memory than loops due to function call overhead.\n",
    "    * In some cases, iterative solutions are preferred for better performance.\n",
    "\n",
    "   5️⃣ **Works Best for Divide-and-Conquer Problems**\n",
    "\n",
    "    Recursive functions are ideal for problems that can be split into smaller subproblems, like:\n",
    "        * Tree and Graph Traversal\n",
    "        * Sorting Algorithms (Merge Sort, Quick Sort)\n",
    "        * Mathematical Computations (Factorial, Fibonacci, GCD)\n",
    "\n",
    "\n"
   ]
  },
  {
   "cell_type": "code",
   "execution_count": null,
   "metadata": {
    "id": "XHByKp5xwFFZ"
   },
   "outputs": [],
   "source": [
    "def factorial(n):\n",
    "    if n == 0:\n",
    "        return 1\n",
    "    return n * factorial(n - 1)\n",
    "\n",
    "print(factorial(5))  # Output: 120\n"
   ]
  },
  {
   "cell_type": "code",
   "execution_count": null,
   "metadata": {
    "colab": {
     "base_uri": "https://localhost:8080/"
    },
    "id": "4LSCeKB7fkrO",
    "outputId": "257bb894-fac5-4b55-847e-b800ab3359d0"
   },
   "outputs": [
    {
     "name": "stdout",
     "output_type": "stream",
     "text": [
      "Next suggested video: Python Functions Explained 🎥\n",
      "Next suggested video: Another related video 🎥\n",
      "Next suggested video: Another related video 🎥\n",
      "Next suggested video: Another related video 🎥\n",
      "Next suggested video: Another related video 🎥\n"
     ]
    }
   ],
   "source": [
    "def recommend_video(video, depth):\n",
    "    if depth == 0:\n",
    "        return\n",
    "    print(f\"Next suggested video: {video} 🎥\")\n",
    "    recommend_video(\"Another related video\", depth - 1)\n",
    "\n",
    "recommend_video(\"Python Functions Explained\", 5)\n",
    "\n",
    "# one tutorial video , we find ourself at 3 am with a video which says how to servive from bear attack ..."
   ]
  },
  {
   "cell_type": "code",
   "execution_count": null,
   "metadata": {
    "colab": {
     "base_uri": "https://localhost:8080/"
    },
    "id": "Slt9C4QkjVCM",
    "outputId": "fa98727a-2a4d-4b3f-e733-1065109da1cd"
   },
   "outputs": [
    {
     "name": "stdout",
     "output_type": "stream",
     "text": [
      "Aisha is telling the next girl... 🤫\n",
      "Aisha is telling the next girl... 🤫\n",
      "Aisha is telling the next girl... 🤫\n",
      "Aisha is telling the next girl... 🤫\n",
      "Aisha is telling the next girl... 🤫\n"
     ]
    }
   ],
   "source": [
    "def gossip_chain(girl, level):\n",
    "    if level == 0:\n",
    "        return\n",
    "    print(f\"{girl} is telling the next girl... 🤫\")\n",
    "    gossip_chain(girl, level - 1)  # Calls itself\n",
    "\n",
    "gossip_chain(\"Aisha\", 5)  # 5 levels of gossip \n"
   ]
  },
  {
   "cell_type": "code",
   "execution_count": null,
   "metadata": {},
   "outputs": [],
   "source": [
    "#Example\n",
    "def study_reminder(task, days_left):\n",
    "    def remind():\n",
    "        if days_left == 0:\n",
    "            print(f\"Today is the day! Time to {task}!\")\n",
    "            return\n",
    "        print(f\"{days_left} days left: Don't forget to {task}!\")\n",
    "        study_reminder(task, days_left - 1)()\n",
    "\n",
    "    return remind\n",
    "\n",
    "reminder = study_reminder(\"submit your assignment\", 3)\n",
    "reminder()\n",
    "\n",
    "#utput\n",
    "\"\"\"3 days left: Don't forget to submit your assignment!\n",
    "   2 days left: Don't forget to submit your assignment!\n",
    "   1 days left: Don't forget to submit your assignment!\n",
    "   Today is the day! Time to submit your assignment!\"\"\""
   ]
  },
  {
   "cell_type": "markdown",
   "metadata": {
    "id": "ZZX4n6TDhDwc"
   },
   "source": [
    "**Higher oder functions**"
   ]
  },
  {
   "cell_type": "code",
   "execution_count": null,
   "metadata": {
    "id": "_vpKoZKEfkoe"
   },
   "outputs": [],
   "source": [
    "def apply_function(func, value):\n",
    "    return func(value)\n",
    "\n",
    "result = apply_function(lambda x: x * x, 4)\n",
    "print(result)  # Output: 16"
   ]
  },
  {
   "cell_type": "code",
   "execution_count": null,
   "metadata": {
    "id": "zRctAJRlfkki"
   },
   "outputs": [],
   "source": [
    "def food_quality(taste_function):\n",
    "    return f\"Hostel food is {taste_function()} 🤢\"\n",
    "\n",
    "print(food_quality(lambda: \"disgusting\"))\n",
    "print(food_quality(lambda: \"bearable\"))\n",
    "# hostel food test of patience, not taste."
   ]
  },
  {
   "cell_type": "code",
   "execution_count": null,
   "metadata": {
    "id": "YQAiXBekfkg1"
   },
   "outputs": [],
   "source": [
    "# map functions\n",
    "# Syntax: map(function, iterable)\n",
    "numbers = [1, 2, 3, 4, 5]\n",
    "\n",
    "# Multiply each number by 2\n",
    "doubled = map(lambda x: x * 2, numbers)\n",
    "\n",
    "print(list(doubled))\n",
    "# Output: [2, 4, 6, 8, 10]\n",
    "\n",
    "captions = [\"feeling cute\", \"mood today\", \"sunday vibes\"]\n",
    "\n",
    "formatted_captions = list(map(lambda caption: caption.title(), captions))\n",
    "\n",
    "print(formatted_captions)\n",
    "# ['Feeling Cute', 'Mood Today', 'Sunday Vibes']\n"
   ]
  },
  {
   "cell_type": "code",
   "execution_count": null,
   "metadata": {
    "id": "Bzvu085IfkeK"
   },
   "outputs": [],
   "source": [
    "# filter functions\n",
    "# Syntax: filter(function, iterable)\n",
    "comments = [\"Nice video!\", \"You are dumb\", \"Awesome content!\", \"Worst video ever!\"]\n",
    "\n",
    "# Keep only comments without bad words\n",
    "good_comments = filter(lambda comment: \"dumb\" not in comment and \"worst\" not in comment, comments)\n",
    "\n",
    "print(list(good_comments))\n",
    "# Output: ['Nice video!', 'Awesome content!']\n"
   ]
  },
  {
   "cell_type": "code",
   "execution_count": null,
   "metadata": {
    "colab": {
     "base_uri": "https://localhost:8080/"
    },
    "id": "O7rmwXb3fkRL",
    "outputId": "9f2ce08c-5d5f-4051-aaf3-9cf261e204da"
   },
   "outputs": [
    {
     "name": "stdout",
     "output_type": "stream",
     "text": [
      "80\n"
     ]
    }
   ],
   "source": [
    "# reduce function\n",
    "from functools import reduce\n",
    "\n",
    "# Syntax: reduce(function, iterable)\n",
    "watch_times = [10, 15, 20, 35]  # Minutes watched on different videos\n",
    "\n",
    "# Sum all watch times\n",
    "total_watch_time = reduce(lambda x, y: x + y, watch_times)\n",
    "\n",
    "print(total_watch_time)\n",
    "# Output: 80\n"
   ]
  },
  {
   "cell_type": "code",
   "execution_count": null,
   "metadata": {
    "id": "_UYIVy9tapw-"
   },
   "outputs": [],
   "source": [
    "# sorted function\n",
    "# Syntax: sorted(iterable, key=function, reverse=True/False)\n",
    "streaks = [(\"Alice\", 120), (\"Bob\", 300), (\"Charlie\", 250)]\n",
    "\n",
    "# Sort based on streak count (highest first)\n",
    "sorted_streaks = sorted(streaks, key=lambda streak: streak[1], reverse=True)\n",
    "\n",
    "print(sorted_streaks)\n",
    "# Output: [('Bob', 300), ('Charlie', 250), ('Alice', 120)]\n",
    "# snapchat streaks : keeping fake friendship alive since 2016"
   ]
  },
  {
   "cell_type": "markdown",
   "metadata": {},
   "source": [
    "\"\"\"\n",
    "***\n",
    "\"\"\""
   ]
  },
  {
   "cell_type": "markdown",
   "metadata": {},
   "source": [
    "#### **Decorators**"
   ]
  },
  {
   "cell_type": "code",
   "execution_count": null,
   "metadata": {},
   "outputs": [],
   "source": [
    "def no_plagiarism(original_function):\n",
    "    def wrapper():\n",
    "        return \"Totally original work, not copied at all. 🧐\"\n",
    "    return wrapper\n",
    "\n",
    "@no_plagiarism\n",
    "def copy_assignment():\n",
    "    return \"Copied Assignment 😈\"\n",
    "\n",
    "print(copy_assignment())  # first rule of copying is deny everything\n",
    "# auto reply on insta\n",
    "def auto_reply(function):\n",
    "    def wrapper():\n",
    "        return \"Hey! I'm busy right now. Will reply soon! 😊\"\n",
    "    return wrapper\n",
    "\n",
    "@auto_reply\n",
    "def message():\n",
    "    return \"Hey, what's up?\"\n",
    "\n",
    "print(message())\n",
    "\n"
   ]
  },
  {
   "cell_type": "code",
   "execution_count": null,
   "metadata": {
    "colab": {
     "base_uri": "https://localhost:8080/"
    },
    "id": "IM4x4QbmuupH",
    "outputId": "ced512b3-5482-4687-9814-770299a07d8c"
   },
   "outputs": [
    {
     "name": "stdout",
     "output_type": "stream",
     "text": [
      "Calling function...\n",
      "Hello, world!\n",
      "Function finished.\n"
     ]
    }
   ],
   "source": [
    "def say_hello():\n",
    "    print(\"Hello, world!\")\n",
    "\n",
    "print(\"Calling function...\")  # Before\n",
    "say_hello()\n",
    "print(\"Function finished.\")   # After\n"
   ]
  },
  {
   "cell_type": "code",
   "execution_count": null,
   "metadata": {
    "colab": {
     "base_uri": "https://localhost:8080/"
    },
    "id": "qIHtka-nvwlD",
    "outputId": "cb4b8a88-a173-449f-ecf6-11f48c53958e"
   },
   "outputs": [
    {
     "name": "stdout",
     "output_type": "stream",
     "text": [
      "Calling function...\n",
      "Hello, world!\n",
      "Function finished.\n"
     ]
    }
   ],
   "source": [
    "def log_decorator(func):\n",
    "    def wrapper():\n",
    "        print(\"Calling function...\")  # Before\n",
    "        func()\n",
    "        print(\"Function finished.\")   # After\n",
    "    return wrapper\n",
    "\n",
    "@log_decorator\n",
    "def say_hello():\n",
    "    print(\"Hello, world!\")\n",
    "\n",
    "say_hello()\n"
   ]
  },
  {
   "cell_type": "code",
   "execution_count": null,
   "metadata": {
    "id": "2IpquEkWwXbs"
   },
   "outputs": [],
   "source": []
  },
  {
   "cell_type": "code",
   "execution_count": null,
   "metadata": {
    "colab": {
     "base_uri": "https://localhost:8080/",
     "height": 35
    },
    "id": "WqsZeYSmwICC",
    "outputId": "c71c9510-f233-44c6-bf83-e32ced6eff76"
   },
   "outputs": [
    {
     "data": {
      "application/vnd.google.colaboratory.intrinsic+json": {
       "type": "string"
      },
      "text/plain": [
       "'not copied'"
      ]
     },
     "execution_count": 11,
     "metadata": {},
     "output_type": "execute_result"
    }
   ],
   "source": [
    "def plagaism(fn):\n",
    "  def wrapper():\n",
    "    fn()\n",
    "    return \"not copied\"\n",
    "  return wrapper\n",
    "\n",
    "@plagaism\n",
    "def say_no():\n",
    "  return \"hello\"\n",
    "\n",
    "say_no()"
   ]
  },
  {
   "cell_type": "code",
   "execution_count": null,
   "metadata": {},
   "outputs": [],
   "source": [
    "# Youtube\n",
    "def check_comment(comment):\n",
    "    bad_words = [\"hate\", \"stupid\", \"ugly\"]\n",
    "    a = any(word in comment.lower() for word in bad_words)\n",
    "    print(a)\n",
    "    return a\n",
    "\n",
    "def moderate_comments(comment_list, filter_function):\n",
    "    return [comment for comment in comment_list if not filter_function(comment)]\n",
    "\n",
    "comments = [\"Great video!\", \"This is stupid!\", \"Love this content!\"]\n",
    "clean_comments = moderate_comments(comments, check_comment)\n",
    "\n",
    "print(clean_comments)  # ['Great video!', 'Love this content!']\n",
    "\n",
    "#The internet : where people type what they would never say in real life"
   ]
  },
  {
   "cell_type": "code",
   "execution_count": null,
   "metadata": {
    "id": "7mqniqtUwh_O"
   },
   "outputs": [],
   "source": [
    "\n",
    "\"\"\"\"\n",
    ". **Text Analysis Tool**\n",
    "   Create a set of lambda functions for analyzing text data from customer reviews:\n",
    "   - Count words of specific lengths\n",
    "   - Extract all words starting with a specific letter\n",
    "   - Transform text to create hashtags (capitalize first letter of each word and join)\n",
    "   \n",
    "   Example data:\n",
    "   ```python\n",
    "   reviews = [\n",
    "       \"Great product, highly recommend!\",\n",
    "       \"The quality could be better\",\n",
    "       \"Amazing customer service experience\",\n",
    "       \"Will definitely buy again\"\n",
    "   ]\n",
    "   ```\n",
    "\"\"\"\""
   ]
  },
  {
   "cell_type": "code",
   "execution_count": null,
   "metadata": {},
   "outputs": [],
   "source": [
    "\"\"\"\n",
    " Smart Product Sorting\n",
    "   You're building an e-commerce platform that needs to sort products based on different criteria. Create a system that uses lambda functions to:\n",
    "   - Sort products by price (both ascending and descending)\n",
    "   - Filter products by rating (above a given threshold)\n",
    "   - Calculate discounted prices based on different discount rules\n",
    "   \n",
    "   Example data:\n",
    "   products = [\n",
    "       {'name': 'Laptop', 'price': 1200, 'rating': 4.5, 'category': 'Electronics'},\n",
    "       {'name': 'Headphones', 'price': 100, 'rating': 4.0, 'category': 'Electronics'},\n",
    "       {'name': 'Book', 'price': 20, 'rating': 4.8, 'category': 'Books'},\n",
    "       {'name': 'Smart Watch', 'price': 300, 'rating': 4.2, 'category': 'Electronics'}\n",
    "   ]\n",
    "   ```\n",
    "\"\"\"\n",
    "sort_by_price_asc = lambda products: sorted(products, key=lambda x: x['price'])\n",
    "sort_by_price_desc = lambda products: sorted(products, key=lambda x: x['price'], reverse=True)\n",
    "\n",
    "# Filter by rating threshold\n",
    "filter_by_rating = lambda products, min_rating: list(filter(lambda x: x['rating'] >= min_rating, products))\n",
    "\n",
    "# Calculate discounted prices with different rules\n",
    "calculate_discount = lambda price, discount_percent: price * (1 - discount_percent/100)\n",
    "bulk_discount = lambda products, category, discount: list(map(\n",
    "    lambda x: {**x, 'discounted_price': calculate_discount(x['price'], discount) if x['category'] == category else x['price']},\n",
    "    products\n",
    "))\n",
    "\n",
    "# Example usage:\n",
    "products = [\n",
    "    {'name': 'Laptop', 'price': 1200, 'rating': 4.5, 'category': 'Electronics'},\n",
    "    {'name': 'Headphones', 'price': 100, 'rating': 4.0, 'category': 'Electronics'},\n",
    "    {'name': 'Book', 'price': 20, 'rating': 4.8, 'category': 'Books'},\n",
    "    {'name': 'Smart Watch', 'price': 300, 'rating': 4.2, 'category': 'Electronics'}\n",
    "]\n",
    "\n",
    "# Sort products by price (ascending)\n",
    "sorted_products = sort_by_price_asc(products)\n",
    "# Filter products with rating >= 4.5\n",
    "high_rated_products = filter_by_rating(products, 4.5)\n",
    "# Apply 20% discount to Electronics\n",
    "discounted_products = bulk_discount(products, 'Electronics', 20)"
   ]
  },
  {
   "cell_type": "code",
   "execution_count": null,
   "metadata": {},
   "outputs": [],
   "source": [
    "# E-commerce Order Processing System\n",
    "\n",
    "\"\"\"\n",
    "Problem: You're building a flexible order processing system for an e-commerce platform.\n",
    "The system needs to:\n",
    "1. Apply different types of discounts based on business rules\n",
    "2. Validate orders before processing\n",
    "3. Calculate final prices\n",
    "4. Generate order summaries\n",
    "\n",
    "Each order has: items, quantities, and customer type (regular/premium)\n",
    "Different discount rules can be applied based on:\n",
    "- Season (summer sale, winter sale)\n",
    "- Customer type (premium customers get extra discount)\n",
    "- Order total (bulk discounts)\n",
    "\"\"\"\n",
    "\n",
    "# First, define some example discount rules\n",
    "def summer_discount(order):\n",
    "    \"\"\"Summer sale: 20% off on all items\"\"\"\n",
    "    discount = 0.20\n",
    "    discounted_total = order['total'] * (1 - discount)\n",
    "    return {\n",
    "        **order,\n",
    "        'discount_applied': 'Summer Sale',\n",
    "        'discount_amount': order['total'] - discounted_total,\n",
    "        'final_total': discounted_total\n",
    "    }\n",
    "\n",
    "def premium_discount(order):\n",
    "    \"\"\"Premium customers get 15% off\"\"\"\n",
    "    discount = 0.15 if order['customer_type'] == 'premium' else 0\n",
    "    discounted_total = order['total'] * (1 - discount)\n",
    "    return {\n",
    "        **order,\n",
    "        'discount_applied': 'Premium Member',\n",
    "        'discount_amount': order['total'] - discounted_total,\n",
    "        'final_total': discounted_total\n",
    "    }\n",
    "\n",
    "def bulk_discount(order):\n",
    "    \"\"\"Orders over $200 get 10% off\"\"\"\n",
    "    discount = 0.10 if order['total'] > 200 else 0\n",
    "    discounted_total = order['total'] * (1 - discount)\n",
    "    return {\n",
    "        **order,\n",
    "        'discount_applied': 'Bulk Order',\n",
    "        'discount_amount': order['total'] - discounted_total,\n",
    "        'final_total': discounted_total\n",
    "    }\n",
    "\n",
    "# Order validation rules\n",
    "def check_stock_available(order):\n",
    "    \"\"\"Check if all items are in stock\"\"\"\n",
    "    # Simulate stock check\n",
    "    return all(item['quantity'] <= 10 for item in order['items'])\n",
    "\n",
    "def check_valid_address(order):\n",
    "    \"\"\"Check if shipping address is valid\"\"\"\n",
    "    # Simulate address validation\n",
    "    return len(order.get('address', '')) > 10\n",
    "\n",
    "def check_payment_verified(order):\n",
    "    \"\"\"Check if payment method is verified\"\"\"\n",
    "    # Simulate payment verification\n",
    "    return order.get('payment_verified', False)\n",
    "\n",
    "# Main processing functions\n",
    "def process_order(order, discount_function, validation_functions):\n",
    "    \"\"\"\n",
    "    Process an order by applying validations and discounts\n",
    "    \n",
    "    Args:\n",
    "        order (dict): The order details\n",
    "        discount_function (function): Function to calculate discount\n",
    "        validation_functions (list): List of validation functions to apply\n",
    "        \n",
    "    Returns:\n",
    "        dict: Processed order with discounts and validation results\n",
    "    \"\"\"\n",
    "    # First validate the order\n",
    "    validation_results = {\n",
    "        f\"validation_{i+1}\": func(order) \n",
    "        for i, func in enumerate(validation_functions)\n",
    "    }\n",
    "    \n",
    "    # If all validations pass, apply discount\n",
    "    if all(validation_results.values()):\n",
    "        processed_order = discount_function(order)\n",
    "        processed_order['validation_status'] = 'PASSED'\n",
    "        processed_order['validation_details'] = validation_results\n",
    "    else:\n",
    "        processed_order = {\n",
    "            **order,\n",
    "            'validation_status': 'FAILED',\n",
    "            'validation_details': validation_results\n",
    "        }\n",
    "    \n",
    "    return processed_order\n",
    "\n",
    "def generate_order_summary(order, summary_format_function):\n",
    "    \"\"\"\n",
    "    Generate order summary in specified format\n",
    "    \n",
    "    Args:\n",
    "        order (dict): The processed order\n",
    "        summary_format_function (function): Function to format the summary\n",
    "        \n",
    "    Returns:\n",
    "        str: Formatted order summary\n",
    "    \"\"\"\n",
    "    return summary_format_function(order)\n",
    "\n",
    "# Example usage:\n",
    "if __name__ == \"__main__\":\n",
    "    # Sample order\n",
    "    order = {\n",
    "        'order_id': '12345',\n",
    "        'customer_type': 'premium',\n",
    "        'items': [\n",
    "            {'name': 'Laptop', 'price': 1200, 'quantity': 1},\n",
    "            {'name': 'Mouse', 'price': 25, 'quantity': 2}\n",
    "        ],\n",
    "        'total': 1250,\n",
    "        'address': '123 Tech Street, Silicon Valley, CA 94025',\n",
    "        'payment_verified': True\n",
    "    }\n",
    "    \n",
    "    # List of validation functions to apply\n",
    "    validations = [\n",
    "        check_stock_available,\n",
    "        check_valid_address,\n",
    "        check_payment_verified\n",
    "    ]\n",
    "    \n",
    "    # Process order with summer discount\n",
    "    processed_order = process_order(order, summer_discount, validations)\n",
    "    \n",
    "    # Define a simple summary format\n",
    "    def simple_summary(order):\n",
    "        return f\"\"\"\n",
    "Order Summary:\n",
    "-------------\n",
    "Order ID: {order['order_id']}\n",
    "Items: {len(order['items'])}\n",
    "Original Total: ${order['total']}\n",
    "Discount: ${order.get('discount_amount', 0):.2f} ({order.get('discount_applied', 'None')})\n",
    "Final Total: ${order.get('final_total', order['total']):.2f}\n",
    "Validation Status: {order['validation_status']}\n",
    "\"\"\"\n",
    "    \n",
    "    # Generate and print summary\n",
    "    print(generate_order_summary(processed_order, simple_summary))\n",
    "\n",
    "\"\"\"\n",
    "Exercise:\n",
    "1. Add a new discount rule for first-time customers\n",
    "2. Add a validation rule for maximum order value\n",
    "3. Create a detailed summary format function\n",
    "4. Implement a function that tries multiple discount rules and applies the best one\n",
    "5. Add error handling for invalid orders\n",
    "\n",
    "This exercise helps practice:\n",
    "- Functions as arguments\n",
    "- Nested functions\n",
    "- Function composition\n",
    "- Dictionary manipulation\n",
    "- List comprehensions with functions\n",
    "\"\"\""
   ]
  }
 ],
 "metadata": {
  "colab": {
   "provenance": []
  },
  "kernelspec": {
   "display_name": "base",
   "language": "python",
   "name": "python3"
  },
  "language_info": {
   "codemirror_mode": {
    "name": "ipython",
    "version": 3
   },
   "file_extension": ".py",
   "mimetype": "text/x-python",
   "name": "python",
   "nbconvert_exporter": "python",
   "pygments_lexer": "ipython3",
   "version": "3.11.5"
  }
 },
 "nbformat": 4,
 "nbformat_minor": 0
}
