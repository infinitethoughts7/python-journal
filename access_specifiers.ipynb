{
 "cells": [
  {
   "cell_type": "markdown",
   "metadata": {},
   "source": [
    "# Access Specifiers/Modifers"
   ]
  },
  {
   "cell_type": "markdown",
   "metadata": {},
   "source": [
    "Access specifiers or access modifiers in python programming are used to limit the access of class variables and class methods outside of class while implementing the concepts of inheritance.\n",
    "\n",
    "Let us see the each one of access specifiers in detail:\n",
    "\n",
    "### Types of access specifiers\n",
    "1. Public access modifier\n",
    "2. Private access modifier\n",
    "3. Protected access modifier\n"
   ]
  },
  {
   "cell_type": "markdown",
   "metadata": {},
   "source": [
    "| Feature |\tPrivate (__)\t| Protected (_) | Public|\n",
    "|:-------:|:--------------:|:------------:|:-----:|\n",
    "| Prefix |\tDouble underscore (__)\t| Single underscore (_) |No underscore required|\n",
    "|Accessibility|\tNot accessible directly outside the class|\tCan be accessed outside the class but discouraged|Fully accessible from anywhere|\n",
    "|Inheritance|\tNot inherited (needs getters/setters)|\tInherited and accessible in subclasses|Inherited and accessible in subclasses|\n",
    "|Modification|\tCannot be modified directly outside the class|\tCan be modified (not recommended)|Can be modified freely|\n",
    "|Use Case\t|Strict encapsulation (completely hidden)|\tControlled inheritance (for subclass use)|General-purpose, no restrictions|"
   ]
  },
  {
   "cell_type": "markdown",
   "metadata": {},
   "source": [
    "## Public \n",
    "All the variables and methods (member functions) in python are by default public. Any instance variable in a class followed by the ‘self’ keyword ie. self.var_name are public accessed."
   ]
  },
  {
   "cell_type": "code",
   "execution_count": null,
   "metadata": {
    "vscode": {
     "languageId": "plaintext"
    }
   },
   "outputs": [],
   "source": [
    "#Example\n",
    "class Student:\n",
    "    # constructor is defined\n",
    "    def __init__(self, age, name):\n",
    "        self.age = age               # public variable\n",
    "        self.name = name             # public variable\n",
    "\n",
    "obj = Student(21,\"HarryPotter\")\n",
    "print(obj.age)\n",
    "print(obj.name)\n"
   ]
  },
  {
   "cell_type": "markdown",
   "metadata": {},
   "source": [
    "Rules for Public access specifier<br>\n",
    "✅ Public members can be accessed and modified anywhere.<br>\n",
    "✅ Public methods can be inherited and called outside the class.<br>\n",
    "✅ Use getter and setter methods to manage public attributes safely.<br>\n",
    "✅ Public members do not enforce encapsulation, which may lead to unintended changes.\n"
   ]
  },
  {
   "cell_type": "markdown",
   "metadata": {},
   "source": [
    "## Protected\n",
    "- In Python, protected members are indicated by a single underscore (_) before the attribute or method name. \n",
    "- This is just a naming convention, meaning that it is not strictly enforced but is intended to signal that the member should only be used within the class and its subclasses.\n"
   ]
  },
  {
   "cell_type": "code",
   "execution_count": null,
   "metadata": {
    "vscode": {
     "languageId": "plaintext"
    }
   },
   "outputs": [],
   "source": [
    "# Simple Example\n",
    "class Person:\n",
    "    def __init__(self, name, age):\n",
    "        self._name = name  # Protected attribute\n",
    "        self._age = age    # Protected attribute\n",
    "\n",
    "    def _display_info(self):  # Protected method\n",
    "        return f\"Name: {self._name}, Age: {self._age}\"\n",
    "\n",
    "p = Person(\"Alice\", 25)\n",
    "print(p._name)  # Accessible but not recommended\n",
    "print(p._display_info())  # Accessible but intended for internal use\n",
    "\n",
    "\n",
    "# Protected members can be accessed outside the class, but it is discouraged.\n",
    "# They are intended for use within the class and its subclasses."
   ]
  },
  {
   "cell_type": "code",
   "execution_count": null,
   "metadata": {
    "vscode": {
     "languageId": "plaintext"
    }
   },
   "outputs": [],
   "source": [
    "# Example to access protected members in sub class\n",
    "# Protected members are inherited and can be accessed inside child classes.\n",
    "# This makes them useful for attributes or methods that should be shared between a parent and child class but not exposed to the outside world.\n",
    "\n",
    "class Parent:\n",
    "    def __init__(self):\n",
    "        self._value = 100  # Protected attribute\n",
    "\n",
    "class Child(Parent):\n",
    "    def show_value(self):\n",
    "        return f\"Value from Parent: {self._value}\"  # Accessing protected member in subclass\n",
    "\n",
    "c = Child()\n",
    "print(c.show_value())  # Accessing protected attribute from subclass\n"
   ]
  },
  {
   "cell_type": "code",
   "execution_count": null,
   "metadata": {
    "vscode": {
     "languageId": "plaintext"
    }
   },
   "outputs": [],
   "source": [
    "# Example to modify the protected members outside the class(not recommended)\n",
    "# Even though protected members should be used only within the class and its subclasses, Python does not restrict modification.\n",
    "# This means you can modify a protected attribute from outside, but it is against best practices.\n",
    "\n",
    "class Car:\n",
    "    def __init__(self, brand, speed):\n",
    "        self._brand = brand  # Protected attribute\n",
    "        self._speed = speed  # Protected attribute\n",
    "\n",
    "car1 = Car(\"Toyota\", 120)\n",
    "car1._speed = 150  # Modifying a protected attribute (not recommended)\n",
    "print(car1._speed)"
   ]
  },
  {
   "cell_type": "markdown",
   "metadata": {},
   "source": [
    "## Private\n",
    "> In Python, the private access specifier is used to restrict access to class members (attributes and methods) from outside the class. <br>\n",
    "\n",
    "> By convention, private members are intended to be used only within the class and should not be directly accessed or modified from outside.<br>\n",
    "\n",
    "> However, Python does not have true private members like some other languages (e.g., C++ or Java). Instead, it relies on a naming convention to indicate private members.\n"
   ]
  },
  {
   "cell_type": "code",
   "execution_count": null,
   "metadata": {
    "vscode": {
     "languageId": "plaintext"
    }
   },
   "outputs": [],
   "source": [
    "# Example\n",
    "class Car:\n",
    "    def __init__(self, brand, speed):\n",
    "        self.__brand = brand  # Private attribute\n",
    "        self.__speed = speed  # Private attribute\n",
    "\n",
    "    def __display_info(self):  # Private method\n",
    "        return f\"Car: {self.__brand}, Speed: {self.__speed} km/h\"\n",
    "\n",
    "    def public_method(self):\n",
    "        return self.__display_info()  # Access private method from within the class\n",
    "\n",
    "car1 = Car(\"Tesla\", 120)\n",
    "print(car1.public_method())  # Public method can access private method"
   ]
  },
  {
   "cell_type": "code",
   "execution_count": null,
   "metadata": {
    "vscode": {
     "languageId": "plaintext"
    }
   },
   "outputs": [],
   "source": [
    "# Name Mangling\n",
    "# When a member is prefixed with double underscores, Python changes its name internally to avoid accidental access.\n",
    "# The private member __brand will be stored as _Car__brand internally.\n",
    "car1 = Car(\"Tesla\", 120)\n",
    "print(car1._Car__brand)  # Access private attribute via name mangling (Not recommended)"
   ]
  },
  {
   "cell_type": "code",
   "execution_count": null,
   "metadata": {
    "vscode": {
     "languageId": "plaintext"
    }
   },
   "outputs": [],
   "source": [
    "# Private attributes and methods cannot be accessed directly from outside the class. Trying to do so results in an AttributeError.\n",
    "car1 = Car(\"Tesla\", 120)\n",
    "print(car1.__brand)  # This will raise an AttributeError"
   ]
  },
  {
   "cell_type": "code",
   "execution_count": null,
   "metadata": {
    "vscode": {
     "languageId": "plaintext"
    }
   },
   "outputs": [],
   "source": [
    "# Accesing private members via methods\n",
    "class Car:\n",
    "    def __init__(self, brand, speed):\n",
    "        self.__brand = brand\n",
    "        self.__speed = speed\n",
    "\n",
    "    def get_brand(self):  # Getter method\n",
    "        return self.__brand\n",
    "\n",
    "    def set_brand(self, brand):  # Setter method\n",
    "        self.__brand = brand\n",
    "\n",
    "    def get_speed(self):\n",
    "        return self.__speed\n",
    "\n",
    "    def set_speed(self, speed):\n",
    "        self.__speed = speed\n",
    "\n",
    "car1 = Car(\"Tesla\", 120)\n",
    "print(car1.get_brand())  # Access private attribute via getter\n",
    "car1.set_brand(\"BMW\")  # Modify private attribute via setter\n",
    "print(car1.get_brand())"
   ]
  },
  {
   "cell_type": "code",
   "execution_count": null,
   "metadata": {
    "vscode": {
     "languageId": "plaintext"
    }
   },
   "outputs": [],
   "source": [
    "# Private methods\n",
    "class BankAccount:\n",
    "  def __init__(self, balance):\n",
    "      self.__balance = balance\n",
    "\n",
    "  def __update_balance(self, amount):  # Private method\n",
    "      self.__balance += amount\n",
    "\n",
    "  def deposit(self, amount):\n",
    "      self.__update_balance(amount)  # Access private method within a public method\n",
    "      print(f\"Deposited {amount}, New Balance: {self.__balance}\")\n"
   ]
  }
 ],
 "metadata": {
  "language_info": {
   "name": "python"
  }
 },
 "nbformat": 4,
 "nbformat_minor": 2
}
