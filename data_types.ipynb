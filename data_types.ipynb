{
 "cells": [
  {
   "cell_type": "markdown",
   "metadata": {},
   "source": [
    "## Introduction to Python"
   ]
  },
  {
   "cell_type": "markdown",
   "metadata": {},
   "source": [
    "**What is Software?**\n",
    "\n",
    "Software is a collection of instructions that tell a computer what to do. It can be applications like web browsers, games, or operating systems that help run a computer."
   ]
  },
  {
   "cell_type": "markdown",
   "metadata": {},
   "source": [
    "**What is Programming?**\n",
    "\n",
    "Programming is the process of writing instructions that a computer can understand and execute. It allows us to create software that performs specific tasks."
   ]
  },
  {
   "cell_type": "markdown",
   "metadata": {},
   "source": [
    "**What is Code?**\n",
    "\n",
    "Code is the written instructions in a programming language that tells a computer what to do. It is the foundation of all software and applications."
   ]
  },
  {
   "cell_type": "markdown",
   "metadata": {},
   "source": [
    "**What is Syntax?**\n",
    "\n",
    "Syntax is the set of rules that define how to write code in a programming language. Just like grammar rules in a language, programming languages have syntax that must be followed."
   ]
  },
  {
   "cell_type": "markdown",
   "metadata": {},
   "source": [
    "**What is Python?**\n",
    "\n",
    "Python is a high-level, interpreted programming language that is widely used for various applications, including web development, data science, artificial intelligence, automation, and more. It is known for its simplicity, readability, and ease of learning, making it a great choice for beginners and experienced developers alike.\n",
    "\n",
    "🔹 Introduced by: Guido van Rossum in 1991"
   ]
  },
  {
   "cell_type": "markdown",
   "metadata": {},
   "source": [
    "### Why Learn Python? 🚀\n",
    "✅ **Easy & Readable** – Simple syntax, beginner-friendly.  \n",
    "🌍 **Versatile** – Used in web dev, AI, data science, automation & more.  \n",
    "👥 **Huge Community** – Tons of support, libraries & frameworks.  \n",
    "💻 **Cross-Platform** – Runs on Windows, macOS, Linux.  \n",
    "📚 **Powerful Libraries** – Built-in tools for data, AI & web scraping.  \n",
    "\n",
    "Python makes coding fun & efficient! 🐍🔥"
   ]
  },
  {
   "cell_type": "markdown",
   "metadata": {},
   "source": [
    "### Applications of Python 🚀 \n",
    "\n",
    "🌐 **Web Development** – Build websites using Django & Flask.  \n",
    "📊 **Data Science** – Analyze data with Pandas & NumPy.  \n",
    "🤖 **AI & Machine Learning** – Power AI models with TensorFlow & Scikit-learn.  \n",
    "⚙️ **Automation** – Write scripts to automate tasks.  \n",
    "🎮 **Game Development** – Create games with Pygame.  \n",
    "🛡️ **Cybersecurity** – Used in ethical hacking & security testing.  \n",
    "📡 **IoT (Internet of Things)** – Works with embedded systems & smart devices.  \n",
    "\n",
    "Python is everywhere! 🌍🔥"
   ]
  },
  {
   "cell_type": "markdown",
   "metadata": {},
   "source": [
    "### Installing Python"
   ]
  },
  {
   "cell_type": "markdown",
   "metadata": {},
   "source": [
    "##### Steps to Install Python & Set Up VS Code 💻 \n",
    "\n",
    "1️⃣ **Download Python** from [here](https://www.python.org/downloads/).  \n",
    "2️⃣ **Install Python** by following the setup instructions.  \n",
    "3️⃣ **Verify Installation** by running:  \n",
    "   ```sh\n",
    "   python --version   # For Windows  \n",
    "   python3 --version  # For macOS/Linux  \n",
    "   ```  \n",
    "4️⃣ **Install VS Code** from [here](https://code.visualstudio.com/).  \n",
    "5️⃣ **Set Up Python in VS Code:**  \n",
    "   - Open VS Code.  \n",
    "   - Install the **Python extension** from the Extensions tab.  \n",
    "   - Open a Python file and select the installed Python interpreter. "
   ]
  },
  {
   "cell_type": "markdown",
   "metadata": {},
   "source": [
    "6️⃣ **Run Python Code in VS Code:**  \n",
    "   - Open a `.py` file.  \n",
    "   - Click **Run** ▶️ or type `python filename.py` in the terminal.  \n",
    "\n",
    "You're all set! 🎉 Happy coding! 🚀"
   ]
  },
  {
   "cell_type": "markdown",
   "metadata": {},
   "source": [
    "### Variables and Data Types"
   ]
  },
  {
   "cell_type": "markdown",
   "metadata": {},
   "source": [
    "-- Variables:Variables are like containers for storing values.Values in the variables can be changed.\n",
    "\n",
    "-- Values :In Python, values refer to the actual data stored in variables or used in expressions. They can be numbers, text, or other data types."
   ]
  },
  {
   "cell_type": "code",
   "execution_count": null,
   "metadata": {},
   "outputs": [],
   "source": [
    "x = 10        # 10 is a value (integer)\n",
    "name = \"Alice\" # \"Alice\" is a value (string)\n",
    "pi = 3.14      # 3.14 is a value (float)\n",
    "is_valid = True # True is a value (boolean)\n",
    "\n",
    "#Here x,name,pi,is_valid are variables."
   ]
  },
  {
   "cell_type": "markdown",
   "metadata": {},
   "source": [
    "### Data Types"
   ]
  },
  {
   "cell_type": "markdown",
   "metadata": {},
   "source": [
    "In programming languages,every value or data has an associated type to it known as data type."
   ]
  },
  {
   "cell_type": "markdown",
   "metadata": {},
   "source": [
    "Some commonly used data types are:\n",
    "- String\n",
    "- Integer\n",
    "- Float\n",
    "- Boolean"
   ]
  },
  {
   "cell_type": "markdown",
   "metadata": {},
   "source": [
    " This data type determines how the value or data can be used in the program.For ex,mathematical operations can be done on integer and float types of data."
   ]
  },
  {
   "cell_type": "markdown",
   "metadata": {},
   "source": [
    "In Python, data types are classified into two categories:\n",
    "\n",
    "🔄 **Mutable (Changeable)** – Can be modified after creation.  \n",
    "🚫 **Immutable (Unchangeable)** – Cannot be modified after creation.\n",
    "\n",
    "| Data Type     | Mutable? 🔄/🚫 | Example                      |\n",
    "|--------------|--------------|------------------------------|\n",
    "| **List**   | 🔄 Yes       | `[1, 2, 3]`                 |\n",
    "| **Dictionary** 📖 | 🔄 Yes  | `{\"name\": \"Alice\", \"age\": 25}` |\n",
    "| **Set**    | 🔄 Yes       | `{1, 2, 3}`                 |\n",
    "| **Tuple**  | 🚫 No       | `(10, 20, 30)`              |\n",
    "| **String** 🔤| 🚫 No       | `\"Hello, World!\"`           |\n",
    "| **Integer** 🔢 | 🚫 No     | `42`                        |\n",
    "| **Float**  | 🚫 No       | `3.14`                      |\n",
    "| **Boolean** ✅❌ | 🚫 No   | `True` / `False`            |\n",
    "\n",
    "### Mutable vs Immutable – What's the Buzz? 🤔\n",
    "- **Mutable** data types are like **whiteboards** – you can erase and rewrite! 📝\n",
    "- **Immutable** data types are like **permanent markers** – once written, they stay the same! 🖊️"
   ]
  },
  {
   "cell_type": "markdown",
   "metadata": {},
   "source": [
    "### Input & Output Basics in Python 💡\n",
    "📥 Taking Input from the User\n",
    "The **input()** function is used to take user input as a string."
   ]
  },
  {
   "cell_type": "code",
   "execution_count": null,
   "metadata": {},
   "outputs": [],
   "source": [
    "name = input(\"Enter your name: \")\n",
    "print(\"Hello, \" + name + \"!\")"
   ]
  },
  {
   "cell_type": "markdown",
   "metadata": {},
   "source": [
    "📝 Note: **input()** always returns a string. Convert it if needed:"
   ]
  },
  {
   "cell_type": "code",
   "execution_count": null,
   "metadata": {},
   "outputs": [],
   "source": [
    "age = int(input(\"Enter your age: \"))  # Converts input to integer\n",
    "print(\"You are\", age, \"years old!\")"
   ]
  },
  {
   "cell_type": "markdown",
   "metadata": {},
   "source": [
    "📤 Displaying Output\n",
    "- The **print()** function is used to display output."
   ]
  },
  {
   "cell_type": "code",
   "execution_count": null,
   "metadata": {},
   "outputs": [],
   "source": [
    "print(\"Hello, World!\")  # Simple output\n",
    "print(\"Python is fun!\", \"Let's learn together!\")  # Multiple values"
   ]
  },
  {
   "cell_type": "markdown",
   "metadata": {},
   "source": [
    "🎨 Formatted Output (f-strings)\n",
    "- Use **f-strings** for better formatting:"
   ]
  },
  {
   "cell_type": "code",
   "execution_count": 6,
   "metadata": {},
   "outputs": [
    {
     "name": "stdout",
     "output_type": "stream",
     "text": [
      "My name is Alice and I am 25 years old.\n"
     ]
    }
   ],
   "source": [
    "name = \"Alice\"\n",
    "age = 25\n",
    "print(f\"My name is {name} and I am {age} years old.\")"
   ]
  },
  {
   "cell_type": "markdown",
   "metadata": {},
   "source": [
    "🔹 Printing Without Newline\n",
    "- By default, print() adds a newline (\\n). Use **end=\"\"** to change it:"
   ]
  },
  {
   "cell_type": "code",
   "execution_count": null,
   "metadata": {},
   "outputs": [],
   "source": [
    "print(\"Hello\", end=\" \")\n",
    "print(\"World!\")  # Output: Hello World!"
   ]
  },
  {
   "cell_type": "markdown",
   "metadata": {},
   "source": [
    "🚀 Now you know how to take input & print output in Python! 🎉"
   ]
  },
  {
   "cell_type": "markdown",
   "metadata": {},
   "source": [
    "#### Order of Instructions\n",
    "Python executes the code line-by-line"
   ]
  },
  {
   "cell_type": "code",
   "execution_count": null,
   "metadata": {},
   "outputs": [],
   "source": [
    "print(sentence)\n",
    "sentence=\"This is a wrong move\" #NameError: name 'sentence' is not defined"
   ]
  },
  {
   "cell_type": "markdown",
   "metadata": {},
   "source": [
    "### Type Conversions in Python 🔄\n",
    "Python allows converting one data type into another. This is called Type Conversion and is of two types:"
   ]
  },
  {
   "cell_type": "markdown",
   "metadata": {},
   "source": [
    "1️. Implicit Type Conversion (Automatic) 🤖\n",
    "- ✅ Python automatically converts smaller data types to larger ones when needed."
   ]
  },
  {
   "cell_type": "code",
   "execution_count": null,
   "metadata": {},
   "outputs": [],
   "source": [
    "num_int = 10      # Integer\n",
    "num_float = 2.5   # Float\n",
    "\n",
    "result = num_int + num_float  # Integer + Float → Float\n",
    "print(result)   # Output: 12.5 (Converted to float automatically)\n",
    "print(type(result))  # Output: <class 'float'>\n"
   ]
  },
  {
   "cell_type": "markdown",
   "metadata": {},
   "source": [
    "##### 2. 🎭 Explicit Type Conversion (Type Casting)\n",
    "\n",
    "We manually convert data types using built-in functions.\n",
    "\n",
    "| **Function**  | **Converts To** | **Example**             |\n",
    "|--------------|---------------|-------------------------|\n",
    "| `int(x)`     | Integer       | `int(3.7) → 3`         |\n",
    "| `float(x)`   | Float         | `float(5) → 5.0`       |\n",
    "| `str(x)`     | String        | `str(10) → \"10\"`       |\n",
    "| `list(x)`    | List          | `list(\"abc\") → ['a', 'b', 'c']` |\n",
    "| `tuple(x)`   | Tuple         | `tuple([1,2,3]) → (1,2,3)` |\n",
    "| `set(x)`     | Set           | `set([1,2,2,3]) → {1,2,3}` |\n",
    "\n"
   ]
  },
  {
   "cell_type": "code",
   "execution_count": null,
   "metadata": {},
   "outputs": [],
   "source": [
    "num = \"100\"      # String\n",
    "num_int = int(num)  # Convert to Integer\n",
    "print(num_int, type(num_int))  # Output: 100 <class 'int'>\n",
    "\n",
    "pi = 3.14\n",
    "pi_str = str(pi)  # Convert float to string\n",
    "print(pi_str, type(pi_str))  # Output: '3.14' <class 'str'>\n"
   ]
  },
  {
   "cell_type": "markdown",
   "metadata": {},
   "source": [
    "🔹 Common Mistakes & Errors 🚨\n",
    "- ❌ Invalid conversions cause errors!"
   ]
  },
  {
   "cell_type": "code",
   "execution_count": null,
   "metadata": {},
   "outputs": [],
   "source": [
    "print(int(\"Hello\"))  # ❌ ERROR: Cannot convert letters to an integer\n",
    "print(float(\"abc\"))  # ❌ ERROR: Cannot convert letters to float"
   ]
  },
  {
   "cell_type": "markdown",
   "metadata": {},
   "source": [
    "🚀 Now you're a pro at Type Conversion in Python! 🔄🔥"
   ]
  },
  {
   "cell_type": "markdown",
   "metadata": {},
   "source": [
    "###  Python Operators – The Fun & Crazy Way! 🤪🎉\n",
    "\n",
    "Operators in Python are like **superheroes** 🦸‍♂️ that help perform operations on variables and values. Let's meet them all in a **fun way!** 🚀  \n",
    "\n",
    "---\n",
    "\n",
    "#### 1️⃣ Relational (Comparison) Operators – The Judge 👨‍⚖️  \n",
    "These operators **compare** two values and return **True** or **False**.\n",
    "\n",
    "| **Operator** | **Meaning**            | **Example**         |\n",
    "|-------------|----------------------|------------------|\n",
    "| `==`  | Equal to 🤝 | `5 == 5` → ✅ `True` |\n",
    "| `!=`  | Not equal to 😤 | `5 != 3` → ✅ `True` |\n",
    "| `>`   | Greater than 🚀 | `10 > 5` → ✅ `True` |\n",
    "| `<`   | Less than 🐭 | `2 < 8` → ✅ `True` |\n",
    "| `>=`  | Greater than or equal to 💪 | `10 >= 10` → ✅ `True` |\n",
    "| `<=`  | Less than or equal to 🙃 | `3 <= 5` → ✅ `True` |"
   ]
  },
  {
   "cell_type": "code",
   "execution_count": null,
   "metadata": {},
   "outputs": [],
   "source": [
    "age = 18\n",
    "if age >= 18:\n",
    "    print(\"You can enter the party! 🎉\")\n",
    "else:\n",
    "    print(\"Go home, kid! 🚪😂\")\n"
   ]
  },
  {
   "cell_type": "markdown",
   "metadata": {},
   "source": [
    "#### 2️⃣ Assignment Operators – The Handshake 🤝  \n",
    "\n",
    "| **Operator** | **Example** | **Equivalent To** |\n",
    "|-------------|------------|----------------|\n",
    "| `=`   | `x = 5`   | x is now 5 |\n",
    "| `+=`  | `x += 3`  | `x = x + 3` |\n",
    "| `-=`  | `x -= 2`  | `x = x - 2` |\n",
    "| `*=`  | `x *= 4`  | `x = x * 4` |\n",
    "| `/=`  | `x /= 2`  | `x = x / 2` |\n",
    "| `%=`  | `x %= 3`  | `x = x % 3` |"
   ]
  },
  {
   "cell_type": "code",
   "execution_count": null,
   "metadata": {},
   "outputs": [],
   "source": [
    "cookies = 10\n",
    "cookies += 5  # Ate 5 more cookies 🍪\n",
    "print(\"Cookies left:\", cookies)  # Output: 15"
   ]
  },
  {
   "cell_type": "markdown",
   "metadata": {},
   "source": [
    "#### 3️⃣ Logical Operators – The Detectives 🕵️‍♂️  \n",
    "\n",
    "| **Operator** | **Meaning** | **Example** |\n",
    "|-------------|------------|------------|\n",
    "| `and`  | Both conditions must be True ✅✅ | `True and False` →  `False` |\n",
    "| `or`   | At least one must be True ✅❌ | `True or False` →  `True` |\n",
    "| `not`  | Reverse the condition 🙃 | `not True` →  `False` |\n"
   ]
  },
  {
   "cell_type": "code",
   "execution_count": null,
   "metadata": {},
   "outputs": [],
   "source": [
    "is_raining = True\n",
    "have_umbrella = False\n",
    "\n",
    "if is_raining and not have_umbrella:\n",
    "    print(\"You will get wet! ☔😂\")\n",
    "else:\n",
    "    print(\"You're safe! 😎\")"
   ]
  },
  {
   "cell_type": "markdown",
   "metadata": {},
   "source": [
    "#### 4️⃣ Arithmetic Operators – The Math Nerds 📏📐  \n",
    "\n",
    "| **Operator** | **Meaning** | **Example** |\n",
    "|-------------|------------|------------|\n",
    "| `+`  | Addition ➕ | `3 + 2` → `5` |\n",
    "| `-`  | Subtraction ➖ | `10 - 4` → `6` |\n",
    "| `*`  | Multiplication ✖️ | `6 * 7` → `42` |\n",
    "| `/`  | Division ➗ | `10 / 2` → `5.0` |\n",
    "| `%`  | Modulus (Remainder)  | `10 % 3` → `1` |\n",
    "| `**` | Exponentiation  | `2 ** 3` → `8` |\n",
    "| `//` | Floor Division  | `10 // 3` → `3` |"
   ]
  },
  {
   "cell_type": "code",
   "execution_count": null,
   "metadata": {},
   "outputs": [],
   "source": [
    "money = 100\n",
    "pizza_price = 30\n",
    "\n",
    "print(\"Pizzas you can buy:\", money // pizza_price)  # Output: 3 🍕"
   ]
  },
  {
   "cell_type": "markdown",
   "metadata": {},
   "source": [
    "#### 5️⃣ Bitwise Operators – The Nerd Squad 🤓💾  \n",
    "\n",
    "| **Operator** | **Meaning** | **Example** |\n",
    "|-------------|------------|------------|\n",
    "| `&`  | AND  | `5 & 3` → `1` |\n",
    "| `\\|`  | OR  | `5 \\| 3` → `7` |\n",
    "| `^`  | XOR  | `5 ^ 3` → `6` |\n",
    "| `~`  | NOT  | `~5` → `-6` |\n",
    "| `<<` | Left Shift  | `5 << 1` → `10` |\n",
    "| `>>` | Right Shift  | `5 >> 1` → `2` |\n"
   ]
  },
  {
   "cell_type": "code",
   "execution_count": null,
   "metadata": {},
   "outputs": [],
   "source": [
    "a = 5  # 101 in binary\n",
    "b = 3  # 011 in binary\n",
    "\n",
    "print(a & b)  # Output: 1 (Binary: 001)"
   ]
   "\n",
    "source": [
    "a = 5  # 101 in binary\n",
    "b = 3  # 011 in binary\n",
    "\n",
    "print(a | b)  # Output: 7 (Binary: 111)"
   ]
  },
  {
   "cell_type": "markdown",
   "metadata": {},
   "source": [
    "#### 6️⃣ Identity Operators – The Detectives of Memory 🔍  \n",
    "\n",
    "| **Operator** | **Meaning** | **Example** |\n",
    "|-------------|------------|------------|\n",
    "| `is`  | True if same object ✅ | `x is y` |\n",
    "| `is not` | True if different ❌ | `x is not y` |"
   ]
  },
  {
   "cell_type": "code",
   "execution_count": null,
   "metadata": {},
   "outputs": [],
   "source": [
    "a = [1, 2, 3]\n",
    "b = a\n",
    "c = [1, 2, 3]\n",
    "\n",
    "print(a is b)   # ✅ True (same object)\n",
    "print(a is c)   # ❌ False (different objects)"
   ]
  },
  {
   "cell_type": "markdown",
   "metadata": {},
   "source": [
    "#### 7️⃣ Membership Operators – The Spy 🕵️‍♀️  \n",
    "\n",
    "| **Operator** | **Meaning** | **Example** |\n",
    "|-------------|------------|------------|\n",
    "| `in`  | True if value exists ✅ | `\"a\" in \"apple\"` → ✅ `True` |\n",
    "| `not in` | True if value does NOT exist ❌ | `\"x\" not in \"banana\"` → ✅ `True` |"
   ]
  },
  {
   "cell_type": "code",
   "execution_count": null,
   "metadata": {},
   "outputs": [],
   "source": [
    "fruits = [\"apple\", \"banana\", \"cherry\"]\n",
    "if \"apple\" in fruits:\n",
    "    print(\"🍏 Apple found!\")\n",
    "else:\n",
    "    print(\"No apples here! 😢\")"
   ]
  },
  {
   "cell_type": "markdown",
   "metadata": {},
   "source": [
    "### Conditional Statements in Python – The Drama of Decision Making! \n",
    "- Imagine you're the director of a Python movie 🎬, and your characters (the code) need to make smart decisions to move the story forward. This is where conditional statements come in!\n",
    "\n",
    "- 🥇 Act 1: The Simple if Statement – \"Should I go out?\"\n",
    "- An if statement checks a condition—if it's True, the code runs. If it's False, it’s ignored."
   ]
  },
  {
   "cell_type": "code",
   "execution_count": null,
   "metadata": {},
   "outputs": [],
   "source": [
    "weather = \"sunny\"\n",
    "\n",
    "if weather == \"sunny\":  # If the condition is True\n",
    "    print(\"Let's go outside! 😎☀️\")  # Action happens!"
   ]
  },
 {
   "cell_type": "code",
   "execution_count": null,
   "metadata": {},
   "outputs": [],
   "source": [
    "day = \"sunday\"\n",
    "\n",
    "if day == \"sunday\":  # If the condition is True\n",
    "    print(\"No Class! Enjoy 😎\")  # Action happens!"
   ]
  },
  {
   "cell_type": "markdown",
   "metadata": {},
   "source": [
    "📝 Translation: If the weather is sunny, our character goes outside. Otherwise, they do nothing."
   ]
  },
  {
   "cell_type": "markdown",
   "metadata": {},
   "source": [
    "🥈 Act 2: if...else – The Plot Twist! 🎬\n",
    "- Sometimes, you need a backup plan. If one condition fails, do something else instead!"
   ]
  },
  {
   "cell_type": "code",
   "execution_count": null,
   "metadata": {},
   "outputs": [],
   "source": [
    "weather = \"rainy\"\n",
    "\n",
    "if weather == \"sunny\":\n",
    "    print(\"Let's go outside! 😎☀️\")  \n",
    "else:\n",
    "    print(\"Staying in with Netflix! 🍿🎥\")  "
   ]
  },
  {
   "cell_type": "markdown",
   "metadata": {},
   "source": [
    "📝 Translation: If it's sunny, we go out. Otherwise, we watch Netflix instead!"
   ]
  },
  {
   "cell_type": "markdown",
   "metadata": {},
   "source": [
    "🥉 Act 3: if...elif...else  \n",
    "- What if there are multiple choices? "
   ]
  },
  {
   "cell_type": "code",
   "execution_count": null,
   "metadata": {},
   "outputs": [],
   "source": [
    "weather = \"cloudy\"\n",
    "\n",
    "if weather == \"sunny\":\n",
    "    print(\"Let's go outside! 😎☀️\")\n",
    "elif weather == \"rainy\":\n",
    "    print(\"Staying in with Netflix! 🍿🎥\")\n",
    "elif weather == \"cloudy\":\n",
    "    print(\"Might go for a walk... 🌥️🚶\")\n",
    "else:\n",
    "    print(\"Not sure what to do! 🤔\")"
   ]
  },
  {
   "cell_type": "markdown",
   "metadata": {},
   "source": [
    "📝 Translation:\n",
    "- If sunny → Go outside\n",
    "- If rainy → Watch Netflix\n",
    "- If cloudy → Go for a walk\n",
    "- Otherwise, we’re confused!"
   ]
  },
  {
   "cell_type": "markdown",
   "metadata": {},
   "source": [
    "🔥 Act 4: Nested if – The Drama Inside Drama! 🎭\n",
    "- Sometimes, decisions have sub-decisions"
   ]
  },
  {
   "cell_type": "code",
   "execution_count": null,
   "metadata": {},
   "outputs": [],
   "source": [
    "weather = \"rainy\"\n",
    "mood = \"happy\"\n",
    "\n",
    "if weather == \"rainy\":\n",
    "    print(\"It's raining! ☔\")\n",
    "    if mood == \"happy\":\n",
    "        print(\"Dancing in the rain! 💃🌧️\")\n",
    "    else:\n",
    "        print(\"Sigh... just another gloomy day. 😞\")"
   ]
  },
  {
   "cell_type": "markdown",
   "metadata": {},
   "source": [
    "📝 Translation:\n",
    "\n",
    "- If it's raining:\n",
    "- If we're happy, we dance in the rain 💃\n",
    "- Otherwise, we stay gloomy 😞"
   ]
  },
  {
   "cell_type": "markdown",
   "metadata": {},
   "source": [
    "🎯 Act 5: Short-Hand if – The One-Liner Hero! 🚀\n",
    "- What if you want a quick decision without writing multiple lines?"
   ]
  },
  {
   "cell_type": "code",
   "execution_count": null,
   "metadata": {},
   "outputs": [],
   "source": [
    "weather = \"sunny\"\n",
    "\n",
    "print(\"Let's go outside! 😎☀️\") if weather == \"sunny\" else print(\"Netflix time! 🍿\")"
   ]
  },
  {
   "cell_type": "markdown",
   "metadata": {},
   "source": [
    "📝 Translation:\n",
    "\n",
    "- If it's sunny, print \"Let's go outside! 😎☀️\"\n",
    "- Otherwise, print \"Netflix time! 🍿\""
   ]
  },
  {
   "cell_type": "markdown",
   "metadata": {},
   "source": [
    "This is called the Ternary Operator – One-line decision-making like a boss! 😎"
   ]
  },
  {
   "cell_type": "markdown",
   "metadata": {},
   "source": [
    "### 😂 Fun If-Else Challenge: The Ice Cream Decision! 🍦🍫\n",
    "**Question:**\n",
    "You have an ice cream 🍦 in your hand, but uh-oh! It starts melting!\n",
    "\n",
    "👉 Write a Python program that:\n",
    "\n",
    "- If the temperature is hot (above 30°C) 🌞 → Eat it quickly! 😋\n",
    "- If the temperature is cold (below 15°C) ❄️ → Save it for later! 🧊\n",
    "- Otherwise, enjoy it slowly! 🍦😎"
   ]
  },
  {
   "cell_type": "markdown",
   "metadata": {},
   "source": [
    "### Loops"
   ]
  },
  {
   "cell_type": "markdown",
   "metadata": {},
   "source": [
    "1. The **for Loop** – Going Round & Round!\n",
    "- Use when you know how many times to loop!\n",
    "\n",
    "🎭 Example: Counting Candies 🍬"
   ]
  },
  {
   "cell_type": "code",
   "execution_count": null,
   "metadata": {},
   "outputs": [],
   "source": [
    "for candy in range(1, 6):  # Loops from 1 to 5\n",
    "    print(f\"Eating candy number {candy} 🍬\")"
   ]
  },
  {
   "cell_type": "markdown",
   "metadata": {},
   "source": [
    "2. The **while Loop** – Until You’re Done!\n",
    "- Use when you don't know how many times to loop!\n",
    "\n",
    " Example: Watching TV 📺 Until Sleepy"
   ]
  },
  {
   "cell_type": "code",
   "execution_count": null,
   "metadata": {},
   "outputs": [],
   "source": [
    "sleepy = False\n",
    "episodes = 0\n",
    "\n",
    "while not sleepy:\n",
    "    episodes += 1\n",
    "    print(f\"Watching episode {episodes} 🎬\")\n",
    "    if episodes == 3:  # After 3 episodes, you get sleepy!\n",
    "        sleepy = True\n",
    "\n",
    "print(\"Too sleepy! Time to sleep 😴\")"
   ]
  },
  {
   "cell_type": "markdown",
   "metadata": {},
   "source": [
    "### Loop Control Statements"
   ]
  },
  {
   "cell_type": "markdown",
   "metadata": {},
   "source": [
    "The **break Statement** – When You Want to Escape!\n",
    "- Stops the loop immediately!\n",
    "\n",
    "🎭 Example: Leaving a Boring Party 🎉➡️🚪"
   ]
  },
  {
   "cell_type": "code",
   "execution_count": null,
   "metadata": {},
   "outputs": [],
   "source": [
    "for minute in range(1, 6):  \n",
    "    print(f\"At the party for {minute} minutes 🕺🎶\")\n",
    "    if minute == 3:  # At minute 3, you decide to leave!\n",
    "        print(\"Boring! Leaving the party... 🚪\")\n",
    "        break"
   ]
  },
  {
   "cell_type": "markdown",
   "metadata": {},
   "source": [
    "The **continue Statement** – Skip & Move On!\n",
    "- Skips one loop iteration and moves to the next.\n",
    "\n",
    " Example: Skipping a Bad Song in a Playlist 🎵🚫"
   ]
  },
  {
   "cell_type": "code",
   "execution_count": null,
   "metadata": {},
   "outputs": [],
   "source": [
    "songs = [\"Song 1\", \"Annoying Song\", \"Song 3\", \"Song 4\"]\n",
    "\n",
    "for song in songs:\n",
    "    if song == \"Annoying Song\":\n",
    "        print(\"Skipping the annoying song! 🚫🎵\")\n",
    "        continue\n",
    "    print(f\"Listening to {song} 🎧\")"
   ]
  },
  {
   "cell_type": "markdown",
   "metadata": {},
   "source": [
    "**Summary**\n",
    "- Loops make Python repeat actions until a condition is met.\n",
    "\n",
    "- for loop → When you know how many times to loop 🎡\n",
    "- while loop → When you don’t know how many times 🔄\n",
    "- break → Stops the loop immediately 🚪\n",
    "- continue → Skips an iteration and moves on ⏩"
   ]
  },
  {
   "cell_type": "markdown",
   "metadata": {},
   "source": [
    "### 🎉 Challenge Time!\n",
    "Can you write a Python program that:\n",
    "👉 Asks the user for their favorite number, and prints \"Wow! Nice choice!\" that many times? 😆\n",
    "\n",
    "Try it out! 🚀"
   ]
  },
  {
   "cell_type": "markdown",
   "metadata": {},
   "source": [
    "#### why does indexing start from 0?\n",
    "\n",
    "     -  Address = Base Address + Index * Size of the data type"
   ]
  },
  {
   "cell_type": "markdown",
   "metadata": {},
   "source": [
    "## String "
   ]
  },
  {
   "cell_type": "markdown",
   "metadata": {},
   "source": [
    "A string is a data type that represents textual data defined using single or double quotes\n",
    "String is Immutable which means once a string is created, its contents cannot be changed. If you try to modify a string, Python will create a new string\n",
    "Here are some operations on Strings"
   ]
  },
  {
   "cell_type": "code",
   "execution_count": 3,
   "metadata": {},
   "outputs": [
    {
     "data": {
      "text/plain": [
       "False"
      ]
     },
     "execution_count": 3,
     "metadata": {},
     "output_type": "execute_result"
    }
   ],
   "source": [
    "# Basic String Operations\n",
    "str1 = \"hello\"\n",
    "str2 = \"world\"\n",
    "\n",
    "# 1. Concatenation: Joining two strings together\n",
    "concatenated = str1 + str2  # Result: \"helloworld\"\n",
    "# Explanation: The '+' operator joins str1 and str2 together.\n",
    "\n",
    "# 2. Repetition: Repeating a string multiple times\n",
    "repeated = str1 * 3         # Result: \"hellohellohello\"\n",
    "# Explanation: The '*' operator repeats str1 three times.\n",
    "\n",
    "# 3. Length: Finding the number of characters in a string\n",
    "length = len(str1)          # Result: 5\n",
    "# Explanation: The len() function returns the number of characters in str1.\n",
    "\n",
    "# 4. Indexing: Accessing a specific character in a string\n",
    "char = str1[0]              # Result: 'h'\n",
    "# Explanation: Indexing retrieves the character at position 0 in str1, which is 'h'.\n",
    "\n",
    "# 5. Slicing: Extracting a substring from a string\n",
    "slice = str1[1:4]           # Result: \"ell\"\n",
    "# Explanation: Slicing returns a substring from index 1 to 3 (4 is not included) in str1.\n",
    "\n",
    "\n",
    "# Common String Methods\n",
    "text = \"  Hello, World  \"\n",
    "\n",
    "# 1. Remove leading/trailing whitespace\n",
    "stripped = text.strip()      # Result: \"Hello, World\"\n",
    "# Explanation: The strip() method removes any whitespace from the start and end of the string.\n",
    "\n",
    "# 2. Convert to lowercase\n",
    "lowercase = text.lower()      # Result: \"  hello, world  \"\n",
    "# Explanation: The lower() method converts all characters in the string to lowercase.\n",
    "\n",
    "# 3. Convert to uppercase\n",
    "uppercase = text.upper()      # Result: \"  HELLO, WORLD  \"\n",
    "# Explanation: The upper() method converts all characters in the string to uppercase.\n",
    "\n",
    "# 4. Split string into a list\n",
    "split_text = text.split(',')   # Result: ['  Hello', ' World  ']\n",
    "# Explanation: The split(',') method divides the string into a list at each comma.\n",
    "\n",
    "# 5. Replace characters in a string\n",
    "replaced = text.replace('o', 'x')  # Result: \"  Hellx, Wxrld  \"\n",
    "# Explanation: The replace('o', 'x') method replaces all occurrences of 'o' with 'x'.\n",
    "\n",
    "# 6. Find first occurrence of a substring, returns index\n",
    "index_of_o = text.find('o')    # Result: 8\n",
    "# Explanation: The find('o') method returns the index of the first occurrence of 'o', which is 8. If not found, it returns -1.\n",
    "\n",
    "# 7. Count occurrences of a character\n",
    "count_of_l = text.count('l')   # Result: 3\n",
    "# Explanation: The count('l') method counts the number of occurrences of 'l' in the string, which is 3.\n",
    "\n",
    "# 8. Join a list of strings into a single string with a separator\n",
    "joined = ','.join(['a', 'b'])  # Result: \"a,b\"\n",
    "# Explanation: The join() method joins the elements of the list with a comma, creating a single string.\n",
    "\n",
    "# 9. Check if the string starts with a specified prefix\n",
    "starts_with_H = text.startswith('H')  # Result: True\n",
    "# Explanation: The startswith('H') method checks if the string begins with 'H', returning True.\n",
    "\n",
    "# 10. Check if the string ends with a specified suffix\n",
    "ends_with_d = text.endswith('d')   # Result: False\n",
    "# Explanation: The endswith('d') method checks if the string ends with 'd', returning False.\n",
    "\n",
    "\n",
    "# Case Conversion Methods\n",
    "str3 = \"Hello world\"\n",
    "\n",
    "# 1. Capitalize the first character of the string\n",
    "capitalized = str3.capitalize()  # Result: \"Hello world\"\n",
    "# Explanation: The capitalize() method makes the first character uppercase and the rest lowercase.\n",
    "\n",
    "# 2. Title case: Capitalizes the first letter of each word\n",
    "title_case = str3.title()        # Result: \"Hello World\"\n",
    "# Explanation: The title() method capitalizes the first letter of each word in the string.\n",
    "\n",
    "# 3. Swap case: Swaps uppercase to lowercase and vice versa\n",
    "swapped_case = str3.swapcase()   # Result: \"hELLO WORLD\"\n",
    "# Explanation: The swapcase() method converts uppercase letters to lowercase and vice versa.\n",
    "\n",
    "\n",
    "# Classification Methods\n",
    "str4 = \"python\"\n",
    "\n",
    "# 1. Check if all characters are alphabetic\n",
    "is_alpha = str4.isalpha()        # Result: True\n",
    "# Explanation: The isalpha() method checks if all characters in the string are letters, returning True. If not, it returns False.\n",
    "\n",
    "str5 = \"12.34\"\n",
    "\n",
    "# 2. Check if the string contains only decimal digits\n",
    "is_decimal = str5.isdecimal()    # Result: False\n",
    "# Explanation: The isdecimal() method checks if all characters in the string are decimal digits, returning False because it contains a dot.\n",
    "\n",
    "# 3. Check if all characters are lowercase\n",
    "is_lower = str4.islower()        # Result: True\n",
    "# Explanation: The islower() method checks if all characters in the string are lowercase, returning True.\n",
    "\n",
    "# 4. Check if all characters are uppercase\n",
    "is_upper = str4.isupper()        # Result: False\n",
    "# Explanation: The isupper() method checks if all characters in the string are uppercase, returning False.\n",
    "\n",
    "# 5. Check if the string contains only letters and numbers\n",
    "is_alnum = str4.isalnum()        # Result: True\n",
    "# Explanation: The isalnum() method checks if the string contains only letters and numbers, returning True.\n",
    "\n",
    "\n",
    "# Other Useful Methods\n",
    "str6 = \"Python is fun, Python is powerful\"\n",
    "\n",
    "# 1. Find the first occurrence of a substring\n",
    "index_of_fun = str6.index(\"fun\")  # Result: 10\n",
    "# Explanation: The index(\"fun\") method finds the first occurrence of 'fun' and returns its index, which is 10. Raises ValueError if the substring is not found.\n",
    "\n",
    "# 2. Find the last occurrence of a substring\n",
    "last_index_of_is = str6.rindex(\"is\")  # Result: 15\n",
    "# Explanation: The rindex(\"is\") method finds the last occurrence of 'is' and returns its index, which is 15. Raises ValueError if the substring is not found.\n",
    "\n",
    "# 3. Similar to rindex(), but returns -1 if not found\n",
    "last_index_of_java = str6.rfind(\"Java\")  # Result: -1\n",
    "# Explanation: The rfind(\"Java\") method searches for 'Java' and returns -1 because it is not found in the string.\n",
    "\n",
    "\n",
    "# Unicode Character Functions\n",
    "ch = 'x'\n",
    "\n",
    "# 1. Get the Unicode code point of a character\n",
    "unicode_value = ord(ch)  # Result: 120\n",
    "# Explanation: The ord() function returns the Unicode code point of the character 'x', which is 120.\n",
    "\n",
    "# 2. Get the character corresponding to a Unicode code point\n",
    "character = chr(74)      # Result: 'J'\n",
    "# Explanation: The chr(74) function returns the character that corresponds to the Unicode code point 74, which is 'J'.\n"
   ]
  },
  {
   "cell_type": "markdown",
   "metadata": {},
   "source": [
    "## List "
   ]
  },
  {
   "cell_type": "markdown",
   "metadata": {},
   "source": [
    "A List in Python is a built-in data type that allows you to store multiple items in a single variable. Lists are ordered, mutable (modifiable), and can hold a variety of data types, including numbers, strings, and even other lists.\n",
    "\n",
    "Characteristics:\n",
    "\n",
    "Ordered:\n",
    "This means that the order in which you add items to a list is preserved. You can access items by their position (index) in the list.\n",
    "\n",
    "Mutable:\n",
    "Lists are mutable, which means you can change, add, or remove items after the list has been created.\n",
    "\n",
    "Flexible:\n",
    "Lists can grow or shrink in size as needed\n",
    "\n",
    "Allows Duplicate Values:\n",
    "It means the same value can appear multiple times in a list.\n"
   ]
  },
  {
   "cell_type": "code",
   "execution_count": 59,
   "metadata": {},
   "outputs": [
    {
     "data": {
      "text/plain": [
       "True"
      ]
     },
     "execution_count": 59,
     "metadata": {},
     "output_type": "execute_result"
    }
   ],
   "source": [
    "# Initial List\n",
    "lst = [1, 2, 3, 6, 7, 8, 9, 10]\n",
    "\n",
    "# Modification Methods\n",
    "# 1. Add a single element at the end of the list\n",
    "lst.append(4)                # Result: [1, 2, 3, 6, 7, 8, 9, 10, 4]\n",
    "\n",
    "# 2. Add multiple elements at the end of the list\n",
    "lst.extend([5, 6])           # Result: [1, 2, 3, 6, 7, 8, 9, 10, 4, 5, 6]\n",
    "\n",
    "# 3. Insert an element at a specific index\n",
    "lst.insert(0, 0)             # Result: [0, 1, 2, 3, 6, 7, 8, 9, 10, 4, 5, 6]\n",
    "\n",
    "# 4. Remove the first occurrence of a specified element\n",
    "lst.remove(1)                # Result: [0, 2, 3, 6, 7, 8, 9, 10, 4, 5, 6]\n",
    "\n",
    "# 5. Remove and return the last element of the list\n",
    "last_element = lst.pop()      # Result: last_element = 6, lst = [0, 2, 3, 6, 7, 8, 9, 10, 4, 5]\n",
    "\n",
    "# 6. Remove and return an element at a specified index\n",
    "first_element = lst.pop(0)    # Result: first_element = 0, lst = [2, 3, 6, 7, 8, 9, 10, 4, 5]\n",
    "\n",
    "# 7. Clear the entire list\n",
    "lst.clear()                   # Result: lst = []\n",
    "\n",
    "# Copying a list\n",
    "lst1 = [1, 2, 3, 6, 7, 8, 9, 10]\n",
    "\n",
    "# Information Methods\n",
    "# 1. Find the index of a specified element\n",
    "index_of_2 = lst1.index(2)    # Result: index_of_2 = 1\n",
    "\n",
    "# 2. Count the occurrences of a specified element\n",
    "count_of_2 = lst1.count(2)     # Result: count_of_2 = 1\n",
    "\n",
    "# 3. Sort the list in ascending order (in-place)\n",
    "lst1.sort()                    # Result: lst1 = [1, 2, 3, 6, 7, 8, 9, 10]\n",
    "\n",
    "# 4. Reverse the order of the list (in-place)\n",
    "lst1.reverse()                 # Result: lst1 = [10, 9, 8, 7, 6, 3, 2, 1]\n",
    "\n",
    "# Additional Important Methods\n",
    "# 5. Copy the list (returns a shallow copy)\n",
    "lst_copy = lst1.copy()         # Result: lst_copy = [10, 9, 8, 7, 6, 3, 2, 1]\n",
    "\n",
    "# 6. Extend the list with elements from another iterable\n",
    "lst1.extend(range(11, 15))     # Result: lst1 = [10, 9, 8, 7, 6, 3, 2, 1, 11, 12, 13, 14]\n",
    "\n",
    "# 7. Get the length of the list\n",
    "length_of_lst1 = len(lst1)     # Result: length_of_lst1 = 12\n",
    "\n",
    "# 8. Concatenate two lists\n",
    "concatenated = lst1 + [4, 5]   # Result: concatenated = [10, 9, 8, 7, 6, 3, 2, 1, 11, 12, 13, 14, 4, 5]\n",
    "\n",
    "# 9. Repeat the list\n",
    "repeated = lst1 * 2             # Result: repeated = [10, 9, 8, 7, 6, 3, 2, 1, 11, 12, 13, 14, 10, 9, 8, 7, 6, 3, 2, 1, 11, 12, 13, 14]\n",
    "\n",
    "# 10. Membership testing\n",
    "is_2_in_lst1 = 2 in lst1        # Result: is_2_in_lst1 = True\n",
    "\n",
    "# Create lst2 by repeating the list [1, 2, 3, 4, 5] twice\n",
    "lst2 = [1, 2, 3, 4, 5] * 2       # Result: lst2 = [1, 2, 3, 4, 5, 1, 2, 3, 4, 5]\n",
    "\n",
    "# Output statements for reference\n",
    "print(\"Modified List:\", lst)\n",
    "print(\"Index of 2:\", index_of_2)\n",
    "print(\"Count of 2:\", count_of_2)\n",
    "print(\"Sorted List:\", lst1)\n",
    "print(\"Reversed List:\", lst1)\n",
    "print(\"Copied List:\", lst_copy)\n",
    "print(\"Length of List:\", length_of_lst1)\n",
    "print(\"Concatenated List:\", concatenated)\n",
    "print(\"Repeated List:\", repeated)\n",
    "print(\"Is 2 in List:\", is_2_in_lst1)\n",
    "print(\"List 2:\", lst2)  # Output the duplicated list\n",
    "\n",
    "# Fun Practice Questions\n",
    "print(\"\\nFun Practice Questions:\")\n",
    "# 1. Create a list of your top 5 favorite movies and perform:\n",
    "#    a) Sort the list alphabetically.\n",
    "#    b) Find the index of \"Toy Story\".\n",
    "#    c) Check if \"Avatar\" is in your list.\n",
    "\n",
    "# 2. Create a list of animals and:\n",
    "#    a) Count how many animals are in the list.\n",
    "#    b) Reverse the order of the animals.\n",
    "#    c) Create a new list that contains only the animals that have more than 3 letters.\n",
    "\n",
    "# 3. Create a travel bucket list and write a function that:\n",
    "#    a) Returns a new list of destinations that start with the letter \"T\".\n",
    "#    b) Counts how many destinations are in the list.\n",
    "\n",
    "# 4. Create a list of ingredients for your favorite dish and:\n",
    "#    a) Sort the ingredients in alphabetical order.\n",
    "#    b) Find the index of \"onion\".\n",
    "#    c) Create a copy of the list and add \"spices\" to the copied list.\n",
    "\n",
    "# 5. Create a list of your favorite fantasy book characters and:\n",
    "#    a) Check if \"Gandalf\" is in the list.\n",
    "#    b) Create a new list with names that contain the letter \"o\".\n",
    "#    c) Print the total number of characters in the original list.\n",
    "\n",
    "\n"
   ]
  },
  {
   "cell_type": "markdown",
   "metadata": {},
   "source": [
    "### Tuple "
   ]
  },
  {
   "cell_type": "markdown",
   "metadata": {},
   "source": [
    "A Tuple is an ordered, immutable collection of elements in Python, defined by enclosing items in parentheses ().\n",
    "Characteristics:\n",
    "\n",
    "Ordered:\n",
    "The elements in a tuple are ordered, meaning they have a defined order, and you can access them using an index.\n",
    "\n",
    "immutable:\n",
    "Once a tuple is created, its elements cannot be modified, added, or removed.\n",
    "\n",
    "Allow Duplicate Values:\n",
    "Tuples can have duplicate elements. It means the same value can appear multiple times in a tuple."
   ]
  },
  {
   "cell_type": "code",
   "execution_count": null,
   "metadata": {},
   "outputs": [
    {
     "name": "stdout",
     "output_type": "stream",
     "text": [
      "(1, 2, 3, 4, 5)\n",
      "(1, 2, 3, 1, 2, 3)\n",
      "True\n"
     ]
    }
   ],
   "source": [
    "# Tuple Definition\n",
    "# A tuple is an immutable ordered collection of elements, allowing for mixed data types.\n",
    "\n",
    "# Initial Tuple\n",
    "tup = (1, 2, 3)\n",
    "\n",
    "# Information Methods (Limited due to immutability)\n",
    "# 1. Count occurrences of an element\n",
    "count_of_2 = tup.count(2)       # Result: 1\n",
    "# Explanation: The count(2) method returns how many times 2 appears in the tuple.\n",
    "\n",
    "# 2. Find the index of the first occurrence of an element\n",
    "index_of_2 = tup.index(2)       # Result: 1\n",
    "# Explanation: The index(2) method returns the index of the first occurrence of 2 in the tuple.\n",
    "\n",
    "# Operations\n",
    "length_of_tup = len(tup)         # Result: 3\n",
    "# Explanation: The len() function returns the number of elements in the tuple.\n",
    "\n",
    "# 3. Concatenation: Combining tuples\n",
    "concatenated_tup = tup + (4, 5)  # Result: (1, 2, 3, 4, 5)\n",
    "# Explanation: The '+' operator joins two tuples together.\n",
    "\n",
    "# 4. Repetition: Repeating a tuple\n",
    "repeated_tup = tup * 2            # Result: (1, 2, 3, 1, 2, 3)\n",
    "# Explanation: The '*' operator repeats the tuple twice.\n",
    "\n",
    "# 5. Membership testing: Check if an element is in the tuple\n",
    "is_2_in_tup = 2 in tup            # Result: True\n",
    "# Explanation: This checks if 2 exists in the tuple.\n",
    "\n",
    "# Output statements for reference\n",
    "print(\"Tuple:\", tup)\n",
    "print(\"Count of 2:\", count_of_2)\n",
    "print(\"Index of 2:\", index_of_2)\n",
    "print(\"Length of Tuple:\", length_of_tup)\n",
    "print(\"Concatenated Tuple:\", concatenated_tup)\n",
    "print(\"Repeated Tuple:\", repeated_tup)\n",
    "print(\"Is 2 in Tuple:\", is_2_in_tup)\n",
    "\n",
    "# Practice Questions\n",
    "\n",
    "# 1. Define a tuple with your favorite items and find its length.\n",
    "# 2. How would you add an item to a tuple and what would the new tuple look like?\n",
    "# 3. How many times does a certain element appear in a tuple? Use the count method to find out.\n",
    "# 4. Given a tuple, find the index of a particular element.\n",
    "# 5. Check if a specific element exists in a tuple using membership testing.\n"
   ]
  },
  {
   "cell_type": "markdown",
   "metadata": {},
   "source": [
    "### set"
   ]
  },
  {
   "cell_type": "markdown",
   "metadata": {},
   "source": [
    "A set is an unordered collection of unique elements, which can be of any data type and does not allow duplicate values.\n",
    "\n",
    "Characteristics of Sets:\n",
    "\n",
    "Unordered: \n",
    "The elements in a set do not have a defined order, and their arrangement can change.\n",
    "\n",
    "Unique Elements: \n",
    "Sets automatically discard duplicate entries, ensuring all elements are unique.\n",
    "\n",
    "Mutable:\n",
    "Sets can be modified after creation; you can add or remove elements.\n",
    "\n",
    "Dynamic Size: \n",
    "The size of a set can change as elements are added or removed."
   ]
  },
  {
   "cell_type": "code",
   "execution_count": null,
   "metadata": {},
   "outputs": [],
   "source": [
    "# Initializing a Set\n",
    "s = {1, 2, 3}\n",
    "print(\"Original Set:\", s)\n",
    "\n",
    "# Check the type of the set\n",
    "print(\"Type of s:\", type(s))\n",
    "\n",
    "# Creating an empty set\n",
    "ss = set()\n",
    "print(\"Empty Set Type:\", type(ss))\n",
    "\n",
    "# Modification Methods\n",
    "s.add(4)          # Add element\n",
    "print(\"After adding 4:\", s)\n",
    "\n",
    "s.remove(1)       # Remove element (raises error if not found)\n",
    "print(\"After removing 1:\", s)\n",
    "\n",
    "s.discard(1)      # Remove element (no error if not found)\n",
    "print(\"After discarding 1 (no error if not found):\", s)\n",
    "\n",
    "s.pop()           # Remove and return arbitrary element\n",
    "print(\"After pop (random element removed):\", s)\n",
    "\n",
    "s.clear()         # Remove all elements\n",
    "print(\"After clearing the set:\", s)\n",
    "\n",
    "# Set Operations\n",
    "s1 = {1, 2, 3}\n",
    "s2 = {3, 4, 5}\n",
    "\n",
    "union_result = s1.union(s2)               # Union\n",
    "print(\"Union of s1 and s2:\", union_result)\n",
    "\n",
    "intersection_result = s1.intersection(s2)  # Intersection\n",
    "print(\"Intersection of s1 and s2:\", intersection_result)\n",
    "\n",
    "difference_result = s1.difference(s2)     # Difference\n",
    "print(\"Difference of s1 and s2:\", difference_result)\n",
    "\n",
    "symmetric_difference_result = s1.symmetric_difference(s2)  # Symmetric difference\n",
    "print(\"Symmetric Difference of s1 and s2:\", symmetric_difference_result)\n",
    "\n",
    "issubset_result = s1.issubset(s2)         # Check if s1 is a subset of s2\n",
    "print(\"Is s1 a subset of s2?\", issubset_result)\n",
    "\n",
    "issuperset_result = s1.issuperset(s2)     # Check if s1 is a superset of s2\n",
    "print(\"Is s1 a superset of s2?\", issuperset_result)\n",
    "\n",
    "# Operations\n",
    "set_length = len(s1)                      # Length of the set\n",
    "print(\"Length of s1:\", set_length)\n",
    "\n",
    "is_2_in_set = 2 in s1                      # Membership testing\n",
    "print(\"Is 2 in s1?\", is_2_in_set)\n",
    "\n",
    "# Fun Practice Questions\n",
    "\n",
    "# 1. Create a set of characters from your favorite movie or TV show. \n",
    "#    Perform the following: add a new character, remove an existing character, and check if a character is in the set.\n",
    "# 2. Imagine you're creating a set of magical creatures. \n",
    "#    Perform the following: add a new creature, find the number of unique creatures, and check if your set is a subset of another set of creatures.\n",
    "# 3. If you could create a set of your favorite snacks, \n",
    "#    perform these operations: remove a snack you no longer enjoy, find the intersection of your snacks with a friend's snacks, and display the symmetric difference.\n",
    "# 4. Pretend you have a set of superpowers. \n",
    "#    Combine your powers with those of a friend: show the union of your sets, check if your powers are a superset of another, and find the unique powers from your set.\n",
    "# 5. Create a set of your bucket list items. \n",
    "#    Perform these operations: check the length of your list, add a new item, and display all items that are not in another set of items.\n"
   ]
  },
  {
   "cell_type": "markdown",
   "metadata": {},
   "source": [
    "### Dictionary "
   ]
  },
  {
   "cell_type": "markdown",
   "metadata": {},
   "source": [
    "A dictionary in Python is an unordered collection of key-value pairs, where each key is unique and is used to access its corresponding value.\n",
    "\n",
    "Characteristics of Dictionaries:\n",
    "\n",
    "Unordered: \n",
    "Dictionaries do not maintain the order of elements; the items are stored based on their hash values.\n",
    "\n",
    "Mutable: \n",
    "Dictionaries can be modified; you can add, remove, or change items after creation.\n",
    "\n",
    "Key-Value Pairs: \n",
    "Each item in a dictionary is stored as a pair of a unique key and its associated value.\n",
    "\n",
    "Keys are Unique: \n",
    "In a dictionary, each key must be unique; duplicate keys are not allowed, and if a duplicate key is assigned, it will overwrite the previous value"
   ]
  },
  {
   "cell_type": "code",
   "execution_count": null,
   "metadata": {},
   "outputs": [],
   "source": [
    "# Initializing a Dictionary\n",
    "d = {'a': 1, 'b': 2}\n",
    "print(\"Original Dictionary:\", d)  # Output: {'a': 1, 'b': 2}\n",
    "\n",
    "# Modification Methods\n",
    "d['c'] = 3  # Add/update key-value pair\n",
    "print(\"After adding/updating 'c':\", d)  # Output: {'a': 1, 'b': 2, 'c': 3}\n",
    "\n",
    "d.update({'d': 4})  # Add/update multiple key-value pairs\n",
    "print(\"After updating with {'d': 4}:\", d)  # Output: {'a': 1, 'b': 2, 'c': 3, 'd': 4}\n",
    "\n",
    "removed_value = d.pop('a')  # Remove and return value for key 'a'\n",
    "print(\"Removed value for key 'a':\", removed_value)  # Output: 1\n",
    "print(\"After popping 'a':\", d)  # Output: {'b': 2, 'c': 3, 'd': 4}\n",
    "\n",
    "last_item = d.popitem()  # Remove and return the last item\n",
    "print(\"Popped last item:\", last_item)  # Output: ('d', 4)\n",
    "print(\"After popping last item:\", d)  # Output: {'b': 2, 'c': 3}\n",
    "\n",
    "d.clear()  # Remove all items\n",
    "print(\"After clearing the dictionary:\", d)  # Output: {}\n",
    "\n",
    "# Reinitialize the Dictionary for Access Methods\n",
    "d = {'a': 1, 'b': 2}\n",
    "\n",
    "# Access Methods\n",
    "value_a = d.get('a')  # Get value for key 'a'\n",
    "print(\"Value for key 'a':\", value_a)  # Output: 1\n",
    "\n",
    "keys = d.keys()  # Get all keys\n",
    "print(\"Keys in the dictionary:\", list(keys))  # Output: ['a', 'b']\n",
    "\n",
    "values = d.values()  # Get all values\n",
    "print(\"Values in the dictionary:\", list(values))  # Output: [1, 2]\n",
    "\n",
    "items = d.items()  # Get all key-value pairs\n",
    "print(\"Key-value pairs in the dictionary:\", list(items))  # Output: [('a', 1), ('b', 2)]\n",
    "\n",
    "default_value = d.setdefault('a', 1)  # Get value for 'a', set if missing\n",
    "print(\"Value for 'a' (set default if missing):\", default_value)  # Output: 1\n",
    "\n",
    "# Operations\n",
    "dictionary_length = len(d)  # Length of the dictionary\n",
    "print(\"Length of dictionary:\", dictionary_length)  # Output: 2\n",
    "\n",
    "is_a_in_dict = 'a' in d  # Key membership testing\n",
    "print(\"Is 'a' in the dictionary?\", is_a_in_dict)  # Output: True\n",
    "\n",
    "# Deleting a key-value pair\n",
    "del d['a']  # Delete key-value pair for key 'a'\n",
    "print(\"After deleting key 'a':\", d)  # Output: {'b': 2}\n",
    "\n",
    "# Reinitialize the Dictionary for Default Methods\n",
    "d = {'a': 1, 'b': 2}\n",
    "d.setdefault('d', 1)  # Set default value for 'd' if not present\n",
    "d.setdefault('m', 10)  # Set default value for 'm' if not present\n",
    "print(\"After setting defaults:\", d)  # Output: {'a': 1, 'b': 2, 'd': 1, 'm': 10}\n",
    "\n",
    "\n",
    "# Fun Practice Questions\n",
    "\n",
    "# 1. Create a dictionary of your favorite books and their authors. \n",
    "#    Add a new book to the dictionary, update an author's name, and remove a book.\n",
    "\n",
    "# 2. Imagine you have a dictionary representing your favorite foods and their calorie counts. \n",
    "#    Perform the following: check the calorie count for a specific food, add a new food, and find the total number of items in the dictionary.\n",
    "\n",
    "# 3. If you could create a dictionary of your travel destinations and the years you visited, \n",
    "#    perform these operations: update a destination's year, retrieve the year for a specific destination, and delete a destination from your list.\n",
    "\n",
    "# 4. Pretend you are creating a dictionary of your hobbies and the time you spend on each (in hours). \n",
    "#    Show the key-value pairs, find the hobby with the maximum hours, and check if a particular hobby is in your list.\n",
    "\n",
    "# 5. Create a dictionary of your bucket list items with completion status (True/False). \n",
    "#    Perform these operations: add a new item, update the status of an item, and get a list of items that are yet to be completed.\n"
   ]
  },
  {
   "cell_type": "code",
   "execution_count": 136,
   "metadata": {},
   "outputs": [
    {
     "name": "stdout",
     "output_type": "stream",
     "text": [
      "{'name ': 'John', 'age': 30, 'department': 'HR', 'salary': 50000, 'location': 'New York', 'email': 'john@example.com'}\n"
     ]
    }
   ],
   "source": [
    "employee = {\"name \" : \"John\", \"age\": 30, \"department\": \"HR\", 'salary': 50000, 'location': 'New York', 'email': 'john@example.com'}\n",
    "print(employee)"
   ]
  },
  {
   "cell_type": "code",
   "execution_count": 137,
   "metadata": {},
   "outputs": [
    {
     "data": {
      "text/plain": [
       "dict_keys(['name ', 'age', 'department', 'salary', 'location', 'email'])"
      ]
     },
     "execution_count": 137,
     "metadata": {},
     "output_type": "execute_result"
    }
   ],
   "source": [
    "employee.keys()"
   ]
  },
  {
   "cell_type": "code",
   "execution_count": 138,
   "metadata": {},
   "outputs": [
    {
     "data": {
      "text/plain": [
       "dict_values(['John', 30, 'HR', 50000, 'New York', 'john@example.com'])"
      ]
     },
     "execution_count": 138,
     "metadata": {},
     "output_type": "execute_result"
    }
   ],
   "source": [
    "employee.values()"
   ]
  },
  {
   "cell_type": "code",
   "execution_count": 140,
   "metadata": {},
   "outputs": [
    {
     "data": {
      "text/plain": [
       "dict_keys(['name ', 'age', 'department', 'salary', 'location', 'email'])"
      ]
     },
     "execution_count": 140,
     "metadata": {},
     "output_type": "execute_result"
    }
   ],
   "source": [
    "employee.keys()"
   ]
  },
  {
   "cell_type": "code",
   "execution_count": 147,
   "metadata": {},
   "outputs": [
    {
     "data": {
      "text/plain": [
       "True"
      ]
     },
     "execution_count": 147,
     "metadata": {},
     "output_type": "execute_result"
    }
   ],
   "source": [
    "employee.setdefault('is_alive' ,True)"
   ]
  },
  {
   "cell_type": "code",
   "execution_count": 92,
   "metadata": {},
   "outputs": [
    {
     "name": "stdout",
     "output_type": "stream",
     "text": [
      "None\n",
      "[1, 2, 3, 4, 5]\n",
      "[1, 2, 3, 4, 5]\n",
      "['a', 'b', 'c']\n",
      "['e', 'h', 'l', 'l', 'o']\n"
     ]
    }
   ],
   "source": [
    "# sort and sorted \n",
    "my_list = [1, 2, 3, 4, 5]\n",
    "print(my_list.sort()) # sort doesn't return anything , just modifies the list, memory efficient ( large ), works on only lists\n",
    "\n",
    "# sorted creates a new sorted list , doesn't modify the original list\n",
    "my_tuple = (1, 2, 3, 4, 5)\n",
    "print(sorted(my_tuple))\n",
    " # sorted returns a new sorted list ,\n",
    " # doesn't modify the tuple , \n",
    " # sorted alwyas returns a list\n",
    " # it works on all iterables and returns a list\n",
    "my_set = {1, 2, 3, 4, 5}\n",
    "print(sorted(my_set))\n",
    "\n",
    "my_dict = {'a': 1, 'b': 2, 'c': 3}\n",
    "print(sorted(my_dict))\n",
    "\n",
    "my_string = \"hello\"\n",
    "print(sorted(my_string))\n"
   ]
  },
  {
   "cell_type": "code",
   "execution_count": 175,
   "metadata": {},
   "outputs": [
    {
     "name": "stdout",
     "output_type": "stream",
     "text": [
      "['batman', 'ironman', 'spiderman', 'superman', 'thor']\n"
     ]
    }
   ],
   "source": [
    "movies = ('spiderman', 'batman', 'superman', 'ironman', 'thor')\n",
    "# print(movies.sort())\n",
    "print(sorted(movies))\n",
    "\n",
    "\n",
    "\n"
   ]
  },
  {
   "cell_type": "markdown",
   "metadata": {},
   "source": [
    "### 🚀 LevelUp : Dive Into the Challenge!"
   ]
  },
  {
   "cell_type": "code",
   "execution_count": null,
   "metadata": {},
   "outputs": [],
   "source": [
    "# stings practice questions  \n",
    "# Q1: Write a program to reverse a string without using the reverse function\n",
    "input_str = \"Python Programming\"\n",
    "\n",
    "# Q2: Given a string, count the number of vowels and consonants\n",
    "text = \"Hello World\"\n",
    "\n",
    "# Q3: Write a program to check if two strings are anagrams\n",
    "str1 = \"listen\"\n",
    "str2 = \"silent\"\n",
    "\n",
    "# list practice questions \n",
    "# Q1: Remove duplicates from a list while preserving order\n",
    "numbers = [1, 3, 3, 3, 6, 2, 3, 5]\n",
    "\n",
    "# Q2: Find the secnd largest number in a list withut using sort()\n",
    "nums = [10, 5, 8, 12, 3, 7, 5]\n",
    "\n",
    "# Q3: Rotate a list by k positions\n",
    "arr = [1, 2, 3, 4, 5]\n",
    "k = 2  # Output should be [4, 5, 1, 2, 3] \n",
    "\n",
    "# Tuple practice questions \n",
    "# Q1: Convert a list of tuples into a dictionary\n",
    "pairs = [(\"a\", 1), (\"b\", 2), (\"c\", 3)]\n",
    "\n",
    "# Q2: Find all pairs in a tuple list where sum is k\n",
    "tuple_list = [(1,2), (3,4), (5,6), (7,8)]\n",
    "k = 7\n",
    "\n",
    "# Q3: Swap elements in tuple of tuples\n",
    "tuple_of_tuples = ((1,2), (3,4), (5,6))\n",
    "\n",
    "# set practice questions \n",
    "# Q1: Find common elements between multiple lists using sets\n",
    "list1 = [1, 2, 3, 4, 5]\n",
    "list2 = [4, 5, 6, 7, 8]\n",
    "list3 = [5, 6, 7, 8, 9]\n",
    "\n",
    "# Q2: Remove all vowels from a sting using sets\n",
    "text = \"Hello World\"\n",
    "\n",
    "# Q3: Find symmetric difference between two lists\n",
    "list1 = [1, 2, 3, 4, 5]\n",
    "list2 = [4, 5, 6, 7, 8] \n",
    "\n",
    "# dictionary practice questions \n",
    "# Q1: Group items by their first letter\n",
    "words = ['apple', 'ant', 'banana', 'bat', 'cat']\n",
    "\n",
    "# Q2: Merge two dictionaries with summing common values\n",
    "dict1 = {'a': 1, 'b': 2, 'c': 3}\n",
    "dict2 = {'b': 3, 'c': 4, 'd': 5}\n",
    "\n",
    "# Q3: Fid the most frequent character in a string using dictionary\n",
    "text = \"programming\""
   ]
  },
  {
   "cell_type": "markdown",
   "metadata": {},
   "source": [
    "### Loop Control Statements "
   ]
  },
  {
   "cell_type": "code",
   "execution_count": null,
   "metadata": {},
   "outputs": [],
   "source": [
    "# Break - Exit the loop entirely\n",
    "for i in range(5):\n",
    "    if i == 3:\n",
    "        break    # Exit when i equals 3\n",
    "\n",
    "# Continue - Skip to next iteration\n",
    "for i in range(5):\n",
    "    if i == 3:\n",
    "        continue # Skip when i equals 3\n",
    "\n",
    "# Pass - Do nothing (placeholder)\n",
    "for i in range(5):\n",
    "    if i == 3:\n",
    "        pass    # Placeholder for future code "
   ]
  },
  {
   "cell_type": "code",
   "execution_count": 109,
   "metadata": {},
   "outputs": [
    {
     "name": "stdout",
     "output_type": "stream",
     "text": [
      "X: 1, Y: 2\n",
      "X: 3, Y: 4\n"
     ]
    }
   ],
   "source": [
    "points = [(1, 2), (3, 4)] # thinks like this are cooordinates "
   ]
  },
  {
   "cell_type": "markdown",
   "metadata": {},
   "source": [
    "### Zip "
   ]
  },
  {
   "cell_type": "code",
   "execution_count": null,
   "metadata": {},
   "outputs": [],
   "source": [
    "# Zip multiple iterables\n",
    "names = ['Alice', 'Bob']\n",
    "ages = [25, 30]\n",
    "for name, age in zip(names, ages):\n",
    "    print(f\"{name} is {age} years old\")\n",
    "\n",
    "# Filter with list comprehension\n",
    "numbers = [1, 2, 3, 4, 5]\n",
    "evens = [x for x in numbers if x % 2 == 0]\n",
    "\n",
    "# Nested comprehensions\n",
    "matrix = [[i+j for j in range(3)] for i in range(3)]\n",
    "\n",
    "# Multiple conditions\n",
    "for num in numbers:\n",
    "    if num > 0:\n",
    "        if num % 2 == 0:\n",
    "            print(f\"{num} is positive and even\")\n",
    "        else:\n",
    "            print(f\"{num} is positive and odd\")"
   ]
  },
  {
   "cell_type": "code",
   "execution_count": 93,
   "metadata": {},
   "outputs": [
    {
     "name": "stdout",
     "output_type": "stream",
     "text": [
      "Rahuyl  is cool and hfiie\n",
      "Dfalkahuyl  is cool and hfiie\n",
      "Dhlakdfjdfd df df\n"
     ]
    }
   ],
   "source": [
    "sentence =  [\"rahuyl  is cool and hfiie\" , \"dfalkahuyl  is cool and hfiie\" , 'dhlakdfjdfd df df'] \n",
    "for i in sentence:\n",
    "    def title_case(line=i):\n",
    "        return line[0].title() + line[1:]\n",
    "    print(title_case(i))"
   ]
  },
  {
   "cell_type": "code",
   "execution_count": 94,
   "metadata": {},
   "outputs": [
    {
     "data": {
      "text/plain": [
       "'Rahuyl  Is Cool And Hfiie'"
      ]
     },
     "execution_count": 94,
     "metadata": {},
     "output_type": "execute_result"
    }
   ],
   "source": [
    "sete = \"rahuyl  is cool and hfiie\" \n",
    "sete.title()"
   ]
  },
  {
   "cell_type": "code",
   "execution_count": null,
   "metadata": {},
   "outputs": [],
   "source": []
  }
 ],
 "metadata": {
  "kernelspec": {
   "display_name": "Python 3",
   "language": "python",
   "name": "python3"
  },
  "language_info": {
   "codemirror_mode": {
    "name": "ipython",
    "version": 3
   },
   "file_extension": ".py",
   "mimetype": "text/x-python",
   "name": "python",
   "nbconvert_exporter": "python",
   "pygments_lexer": "ipython3",
   "version": "3.13.1"
  }
 },
 "nbformat": 4,
 "nbformat_minor": 2
}
