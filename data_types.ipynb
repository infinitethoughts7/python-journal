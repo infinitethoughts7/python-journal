{
 "cells": [
  {
   "cell_type": "markdown",
   "metadata": {},
   "source": [
    "# Introduction to Python 🐍\n",
    "\n",
    "## Welcome to the World of Python! 🚀\n",
    "\n",
    "Hey there, future Pythonista! 🎩🐍 Are you ready to dive into one of the most popular, fun, and beginner-friendly programming languages? If you’re thinking, \"But coding is hard!\", don’t worry! Python makes it easy, and we’re going to have fun learning it.\n",
    "\n",
    "### Why Python? 🤔\n",
    "\n",
    "1. Easy to Read & Write 📝 – Python’s syntax is as close to English as a programming language can get.\n",
    "2. Powerful & Versatile ⚡ – Used in web development, data science, AI, automation, and even gaming!\n",
    "3. Huge Community Support 👥 – Got stuck? There are millions of Python developers ready to help.\n",
    "4. Used by Tech Giants 🏢 – Companies like Google, Netflix, and NASA use Python. (Yes, even space loves Python!)\n",
    "\n",
    "### Setting Up Python 🛠️\n",
    "\n",
    "* Before we start coding, let’s get Python installed:\n",
    "* Go to python.org\n",
    "* Download the latest version.\n",
    "* Install it and make sure to check \"Add Python to PATH\" during installation.\n",
    "* Open a terminal or command prompt and type:   python --version    \n",
    "* If you see something like Python 3.x.x, you’re all set!"
   ]
  },
  {
   "cell_type": "markdown",
   "metadata": {},
   "source": [
    "### Comments in Python "
   ]
  },
  {
   "cell_type": "code",
   "execution_count": 42,
   "metadata": {},
   "outputs": [
    {
     "name": "stdout",
     "output_type": "stream",
     "text": [
      "Hello, Python!\n",
      "Learning Python is fun!\n"
     ]
    }
   ],
   "source": [
    "# Comments are lines in the code that Python ignores when running the program. \n",
    "# They help us describe what the code does.\n",
    "# Single-line comment:\n",
    "# This is a comment\n",
    "print(\"Hello, Python!\")  # This prints a message\n",
    "\n",
    "# Multi-line comment:\n",
    "\"\"\"\n",
    "This is a multi-line comment.\n",
    "It spans multiple lines.\n",
    "\"\"\"\n",
    "print(\"Learning Python is fun!\")\n",
    "\n",
    "# Comments are useful for documentation and making your code readable!"
   ]
  },
  {
   "cell_type": "markdown",
   "metadata": {},
   "source": [
    "### Writing Your First Python Program ✨"
   ]
  },
  {
   "cell_type": "code",
   "execution_count": null,
   "metadata": {},
   "outputs": [
    {
     "name": "stdout",
     "output_type": "stream",
     "text": [
      "Greetings, Earthlings! 🌍 Ready to conquer Python?\n"
     ]
    }
   ],
   "source": [
    "print(\"Greetings, Earthlings! 🌍 Ready to conquer Python?\")\n",
    "# Boom! 💥 You just wrote your first Python program!\n",
    "# Python doesn’t need semicolons (;), curly braces ({}), or complex syntax. It’s clean, simple, and elegant!"
   ]
  },
  {
   "cell_type": "markdown",
   "metadata": {},
   "source": [
    "### Variables – Your Data Containers 📦"
   ]
  },
  {
   "cell_type": "code",
   "execution_count": null,
   "metadata": {},
   "outputs": [],
   "source": [
    "name = \"Alice\"\n",
    "age = 25\n",
    "is_student = True\n",
    "# Python is dynamically typed, meaning you don’t have to specify variable types."
   ]
  },
  {
   "cell_type": "markdown",
   "metadata": {},
   "source": [
    "### Why Does Indexing Start from 0? 🔢\n",
    "* In Python indexing starts from 0 instead of 1 due to how memory is allocated.\n",
    "* The formula for calculating an element’s memory address is:\n",
    "###### Address = Base Address + Index * Size of the data type"
   ]
  },
  {
   "cell_type": "code",
   "execution_count": 14,
   "metadata": {},
   "outputs": [
    {
     "name": "stdout",
     "output_type": "stream",
     "text": [
      "apple\n"
     ]
    }
   ],
   "source": [
    "# For example:\n",
    "\n",
    "fruits = [\"apple\", \"banana\", \"cherry\"]\n",
    "print(fruits[0])  # Output: apple\n",
    "\n",
    "# Here, fruits[0] points to the base address, making memory calculations efficient!"
   ]
  },
  {
   "cell_type": "markdown",
   "metadata": {},
   "source": [
    "### Data Types 🏷️\n",
    "Python has two main types of data:\n",
    "1. Mutable (can be changed)\n",
    "2. Immutable (cannot be changed)."
   ]
  },
  {
   "cell_type": "markdown",
   "metadata": {},
   "source": [
    "### 1. Immutable Data Types"
   ]
  },
  {
   "cell_type": "code",
   "execution_count": null,
   "metadata": {},
   "outputs": [],
   "source": [
    "age = 25    #Integer\n",
    "pi = 3.14   #Float\n",
    "name = \"Bob\" #String\n",
    "colors = (\"red\", \"blue\", \"green\") #Tuple - Ordered collection\n",
    "is_cool = True #Boolean\n",
    "\n",
    "name[0] = \"M\"  # This will raise an error because strings are immutable!"
   ]
  },
  {
   "cell_type": "markdown",
   "metadata": {},
   "source": [
    "### 2. Mutable Data Types"
   ]
  },
  {
   "cell_type": "code",
   "execution_count": 12,
   "metadata": {},
   "outputs": [
    {
     "name": "stdout",
     "output_type": "stream",
     "text": [
      "['mango', '🍌', '🍇']\n"
     ]
    }
   ],
   "source": [
    "fruits = [\"🍎\", \"🍌\", \"🍇\"] #List - Ordered collection\n",
    "person = {\"name\": \"Alice\", \"age\": 25} #Dictionary - Key-value pairs\n",
    "numbers = {1, 2, 3} #Set - Unordered collection\n",
    "\n",
    "fruits[0] = \"mango\"  # No error, lists are mutable!\n",
    "print(fruits)  # Output: ['mango', '🍌', '🍇']"
   ]
  },
  {
   "cell_type": "markdown",
   "metadata": {},
   "source": [
    "### Type Checking"
   ]
  },
  {
   "cell_type": "code",
   "execution_count": 13,
   "metadata": {},
   "outputs": [
    {
     "name": "stdout",
     "output_type": "stream",
     "text": [
      "<class 'int'>\n"
     ]
    }
   ],
   "source": [
    "x = 2\n",
    "print(type(x))  # Output: <class 'int'>"
   ]
  },
  {
   "cell_type": "markdown",
   "metadata": {},
   "source": [
    "## Brief Explaination on each Data Type"
   ]
  },
  {
   "cell_type": "markdown",
   "metadata": {},
   "source": [
    "### String "
   ]
  },
  {
   "cell_type": "code",
   "execution_count": 20,
   "metadata": {},
   "outputs": [
    {
     "data": {
      "text/plain": [
       "'  Hello, World'"
      ]
     },
     "execution_count": 20,
     "metadata": {},
     "output_type": "execute_result"
    }
   ],
   "source": [
    "# Basic Operations\n",
    "str1 = \"hello\"\n",
    "str2 = \"world\"\n",
    "\n",
    "concatenated = str1 + str2  # Concatenation → \"helloworld\"\n",
    "repeated = str1 * 3         # Repetition → \"hellohellohello\"\n",
    "length = len(str1)          # Length → 5\n",
    "char = str1[0]              # Indexing (First character) → \"h\"\n",
    "slice = str1[1:4]           # Slicing → \"ell\"\n",
    "\n",
    "# Common String Methods\n",
    "text = \"  Hello, World  \"\n",
    "\n",
    "text.strip()      # Remove leading/trailing whitespace → \"Hello, World\"\n",
    "text.lower()      # Convert to lowercase → \"  hello, world  \"\n",
    "text.upper()      # Convert to uppercase → \"  HELLO, WORLD  \"\n",
    "text.split(',')   # Split string into list → ['  Hello', ' World  ']\n",
    "text.replace('o', 'x')  # Replace characters\n",
    "text.find('o')    # Find first occurrence , returns index  → 6\n",
    "text.count('l')   # Count occurrences  → 3\n",
    "','.join(['a','b'])  # Join strings with a comma → \"a,b\"\n",
    "text.startswith('H')  # Check prefix → False (due to leading spaces)\n",
    "text.endswith('d')   # Check suffix → False (due to leading spaces)\n",
    "\n",
    "# Additional Useful Methods\n",
    "text.capitalize()  # Capitalize first letter → \"  hello, world  \"\n",
    "text.title()  # Capitalize first letter of each word → \"  Hello, World  \"\n",
    "text.swapcase()  # Swap case → \"  hELLO, wORLD  \"\n",
    "\"hello\".isalpha()  # Check if all characters are letters → True\n",
    "\"123\".isdigit()  # Check if all characters are digits → True\n",
    "\"Hello123\".isalnum()  # Check if all characters are alphanumeric → True\n",
    "text.lstrip()  # Remove left-side spaces → \"Hello, World  \"\n",
    "text.rstrip()  # Remove right-side spaces → \"  Hello, World\""
   ]
  },
  {
   "cell_type": "markdown",
   "metadata": {},
   "source": [
    "### List "
   ]
  },
  {
   "cell_type": "code",
   "execution_count": 21,
   "metadata": {},
   "outputs": [
    {
     "data": {
      "text/plain": [
       "[10, 9, 8, 7, 6, 3, 2, 1]"
      ]
     },
     "execution_count": 21,
     "metadata": {},
     "output_type": "execute_result"
    }
   ],
   "source": [
    "lst = [1, 2, 3, 6, 7, 8, 9, 10]\n",
    "\n",
    "# Modification Methods\n",
    "lst.append(4)      # [1, 2, 3, 6, 7, 8, 9, 10, 4] → Add single element\n",
    "lst.extend([5,6])  # [1, 2, 3, 6, 7, 8, 9, 10, 4, 5, 6] → Add multiple elements\n",
    "lst.insert(0, 0)   # [0, 1, 2, 3, 6, 7, 8, 9, 10, 4, 5, 6] → Insert at index 0\n",
    "lst.remove(1)      # [0, 2, 3, 6, 7, 8, 9, 10, 4, 5, 6] → Remove first occurrence of 1\n",
    "lst.pop()          # [0, 2, 3, 6, 7, 8, 9, 10, 4, 5] → Remove & return last element (6)\n",
    "lst.pop(0)         # [2, 3, 6, 7, 8, 9, 10, 4, 5] → Remove & return element at index 0 (0)\n",
    "lst.clear()        # [] → Remove all elements\n",
    "\n",
    "lst1 = [1, 2, 3, 6, 7, 8, 9, 10]\n",
    "\n",
    "# Information Methods\n",
    "lst1.index(2)      # 1 → Find index of element 2\n",
    "lst1.count(2)      # 1 → Count occurrences of 2\n",
    "sorted(lst1)       # [1, 2, 3, 6, 7, 8, 9, 10] → Sort (returns new list)\n",
    "lst1.sort()        # [1, 2, 3, 6, 7, 8, 9, 10] → Sort in-place\n",
    "lst1.reverse()     # [10, 9, 8, 7, 6, 3, 2, 1] → Reverse in-place\n",
    "\n",
    "# We have reversed it so now list1 = [10, 9, 8, 7, 6, 3, 2, 1]\n",
    "\n",
    "# Operations\n",
    "len(lst1)          # 8 → Length of list\n",
    "lst1 + [4,5]       # [10, 9, 8, 7, 6, 3, 2, 1, 4, 5] → Concatenation\n",
    "lst1 * 2           # [10, 9, 8, 7, 6, 3, 2, 1, 10, 9, 8, 7, 6, 3, 2, 1] → Repetition\n",
    "2 in lst1          # True → Membership testing\n",
    "\n",
    "# Additional Useful Methods\n",
    "min(lst1)          # 1 → Minimum element\n",
    "max(lst1)          # 10 → Maximum element\n",
    "sum(lst1)          # 46 → Sum of all elements\n",
    "lst1.copy()        # [10, 9, 8, 7, 6, 3, 2, 1] → Shallow copy of list"
   ]
  },
  {
   "cell_type": "markdown",
   "metadata": {},
   "source": [
    "### Tuple "
   ]
  },
  {
   "cell_type": "code",
   "execution_count": 22,
   "metadata": {},
   "outputs": [
    {
     "data": {
      "text/plain": [
       "0"
      ]
     },
     "execution_count": 22,
     "metadata": {},
     "output_type": "execute_result"
    }
   ],
   "source": [
    "tup = (1, 2, 3)\n",
    "\n",
    "# Information Methods (Limited due to immutability)\n",
    "tup.count(2)      # 1 → Count occurrences of 2\n",
    "tup.index(2)      # 1 → Find index of 2\n",
    "\n",
    "# Operations\n",
    "len(tup)          # 3 → Length of tuple\n",
    "tup + (4,5)       # (1, 2, 3, 4, 5) → Concatenation (creates new tuple)\n",
    "tup * 2           # (1, 2, 3, 1, 2, 3) → Repetition\n",
    "2 in tup          # True → Membership testing\n",
    "\n",
    "# Additional Useful Methods\n",
    "min(tup)          # 1 → Minimum element\n",
    "max(tup)          # 3 → Maximum element\n",
    "sum(tup)          # 6 → Sum of all elements\n",
    "tup.index(1)      # 0 → Find index of 1"
   ]
  },
  {
   "cell_type": "markdown",
   "metadata": {},
   "source": [
    "### set"
   ]
  },
  {
   "cell_type": "code",
   "execution_count": 24,
   "metadata": {},
   "outputs": [
    {
     "data": {
      "text/plain": [
       "False"
      ]
     },
     "execution_count": 24,
     "metadata": {},
     "output_type": "execute_result"
    }
   ],
   "source": [
    "s = {1, 2, 3}  \n",
    "type(s)           # <class 'set'> → Type of s\n",
    "\n",
    "# Empty set\n",
    "ss = {}           # {} → Creates an empty dictionary, NOT a set\n",
    "ss = set()        # set() → Creates an empty set\n",
    "type(ss)          # <class 'set'>\n",
    "\n",
    "# Modification Methods\n",
    "s.add(4)          # {1, 2, 3, 4} → Add element\n",
    "s.remove(1)       # {2, 3, 4} → Remove element (raises error if not found)\n",
    "s.discard(1)      # {2, 3, 4} → Remove element (no error if not found)\n",
    "s.pop()           # Removes and returns arbitrary element (set order is undefined)\n",
    "s.clear()         # set() → Remove all elements\n",
    "\n",
    "# Adding multiple elements using update()\n",
    "my_set = {1, 3, 7}\n",
    "my_set.update({2, 0, 5, 8, 'basara', \"Basara\"})  \n",
    "# {0, 1, 2, 3, 5, 7, 8, 'basara', 'Basara'} → Adds multiple elements (order is arbitrary)\n",
    "\n",
    "# Set Operations\n",
    "s1 = {1, 2, 3}\n",
    "type(s1)          # <class 'set'> → Type of s1\n",
    "\n",
    "s2 = {3, 4, 5}\n",
    "s1.union(s2)      # {1, 2, 3, 4, 5} → Union (combines both sets)\n",
    "s1.intersection(s2)  # {3} → Intersection (common elements)\n",
    "s1.difference(s2)    # {1, 2} → Difference (elements in s1 but not in s2)\n",
    "s1.symmetric_difference(s2)  # {1, 2, 4, 5} → Symmetric difference (excludes common elements)\n",
    "\n",
    "# Subset and Superset Operations\n",
    "s1.issubset(s2)      # False → Checks if s1 is a subset of s2\n",
    "s1.issuperset(s2)    # False → Checks if s1 is a superset of s2\n",
    "\n",
    "# Other Operations\n",
    "len(s1)            # 3 → Length of set s1\n",
    "2 in s1            # True → Membership testing\n",
    "\n",
    "# Additional Useful Methods\n",
    "s1.copy()          # {1, 2, 3} → Returns a shallow copy of the set\n",
    "s1.isdisjoint(s2)  # False → Checks if sets have no elements in common"
   ]
  },
  {
   "cell_type": "markdown",
   "metadata": {},
   "source": [
    "### Dictionary "
   ]
  },
  {
   "cell_type": "code",
   "execution_count": 25,
   "metadata": {},
   "outputs": [
    {
     "name": "stdout",
     "output_type": "stream",
     "text": [
      "{'name ': 'John', 'age': 30, 'department': 'HR', 'salary': 50000, 'location': 'New York', 'email': 'john@example.com'}\n"
     ]
    }
   ],
   "source": [
    "d = {'a': 1, 'b': 2}\n",
    "\n",
    "# Modification Methods\n",
    "d['c'] = 3        # {'a': 1, 'b': 2, 'c': 3} → Add/update key-value\n",
    "d.update({'d': 4, 'e': 5})  # {'a': 1, 'b': 2, 'c': 3, 'd': 4, 'e': 5} → Add/update multiple\n",
    "d.pop('a')        # 1 → Remove and return value of 'a' (now {'b': 2, 'c': 3, 'd': 4, 'e': 5})\n",
    "d.popitem()       # ('e', 5) → Remove and return last item (now {'b': 2, 'c': 3, 'd': 4})\n",
    "d.clear()         # {} → Remove all items\n",
    "\n",
    "# Access Methods\n",
    "d = {'a': 1, 'b': 2, 'c': 3}  # Reinitialize for further operations\n",
    "d.get('a')        # 1 → Get value of 'a' (returns None if key does not exist)\n",
    "d.get('z', 100)   # 100 → Get 'z', return default 100 if not found\n",
    "d.keys()          # dict_keys(['a', 'b', 'c']) → Get all keys\n",
    "d.values()        # dict_values([1, 2, 3]) → Get all values\n",
    "d.items()         # dict_items([('a', 1), ('b', 2), ('c', 3)]) → Get all key-value pairs\n",
    "d.setdefault('d', 1)  # 1 → Get value of 'd', set if missing (now {'a': 1, 'b': 2, 'c': 3, 'd': 1})\n",
    "\n",
    "# Operations\n",
    "len(d)            # 4 → Length of dictionary\n",
    "'a' in d          # True → Key membership testing\n",
    "del d['a']        # Removes key 'a' (now {'b': 2, 'c': 3, 'd': 1})\n",
    "\n",
    "# Additional Dictionary Methods\n",
    "d = {'a': 1, 'b': 2}\n",
    "d.setdefault('d', 1)  # {'a': 1, 'b': 2, 'd': 1} → If key exists, returns value; otherwise, sets new key-value\n",
    "d.setdefault('m', 10) # {'a': 1, 'b': 2, 'd': 1, 'm': 10} → Adds 'm' if missing\n",
    "\n",
    "# Copy and Nested Dictionary Handling\n",
    "d_copy = d.copy()     # {'a': 1, 'b': 2, 'd': 1, 'm': 10} → Returns a shallow copy\n",
    "nested_dict = {'user': {'name': 'John', 'age': 25}}  # {'user': {'name': 'John', 'age': 25}} → Nested dictionary\n",
    "\n",
    "# Dictionary Comprehension\n",
    "squared_values = {k: v**2 for k, v in d.items()}  # {'a': 1, 'b': 4, 'd': 1, 'm': 100} → Create dictionary with squared values\n",
    "\n",
    "# Example\n",
    "employee = {\"name \" : \"John\", \"age\": 30, \"department\": \"HR\", 'salary': 50000, 'location': 'New York', 'email': 'john@example.com'}\n",
    "print(employee)"
   ]
  },
  {
   "cell_type": "markdown",
   "metadata": {},
   "source": [
    "### Sort() VS Sorted()"
   ]
  },
  {
   "cell_type": "code",
   "execution_count": 27,
   "metadata": {},
   "outputs": [
    {
     "data": {
      "text/plain": [
       "[('a', 1), ('b', 2), ('c', 3)]"
      ]
     },
     "execution_count": 27,
     "metadata": {},
     "output_type": "execute_result"
    }
   ],
   "source": [
    "# sort() modifies the list in place and returns None\n",
    "my_list = [3, 1, 4, 2, 5]\n",
    "result = my_list.sort()  # None → sort() modifies the list and returns None\n",
    "my_list  # [1, 2, 3, 4, 5] → List is modified in place\n",
    "\n",
    "# sorted() creates a new sorted list, doesn't modify the original\n",
    "my_tuple = (3, 1, 4, 2, 5)\n",
    "sorted(my_tuple)  # [1, 2, 3, 4, 5] → Returns a new sorted list\n",
    "\n",
    "# sorted() also works on sets\n",
    "my_set = {3, 1, 4, 2, 5}\n",
    "sorted(my_set)  # [1, 2, 3, 4, 5] → Converts to a sorted list\n",
    "\n",
    "# sorted() sorts dictionary keys by default\n",
    "my_dict = {'b': 2, 'a': 1, 'c': 3}\n",
    "sorted(my_dict)  # ['a', 'b', 'c'] → Sorts by dictionary keys and returns a list\n",
    "\n",
    "# sorted() works on strings (sorts characters alphabetically)\n",
    "my_string = \"hello\"\n",
    "sorted(my_string)  # ['e', 'h', 'l', 'l', 'o'] → Returns a sorted list of characters\n",
    "\n",
    "# sorted() with reverse order\n",
    "sorted(my_list, reverse=True)  # [5, 4, 3, 2, 1] → Returns a new list in descending order\n",
    "\n",
    "# sorted() with a custom key (sorting based on absolute values)\n",
    "nums = [-10, 5, -3, 8, -1]\n",
    "sorted(nums, key=abs)  # [-1, -3, 5, -10, 8] → Sorted based on absolute values\n",
    "\n",
    "# sorted() with dictionary values\n",
    "sorted(my_dict.items(), key=lambda x: x[1])  # [('a', 1), ('b', 2), ('c', 3)] → Sort by values"
   ]
  },
  {
   "cell_type": "markdown",
   "metadata": {},
   "source": [
    "### Taking User Input 🗣️"
   ]
  },
  {
   "cell_type": "code",
   "execution_count": 30,
   "metadata": {},
   "outputs": [
    {
     "name": "stdout",
     "output_type": "stream",
     "text": [
      "Hello, Coder!\n"
     ]
    }
   ],
   "source": [
    "name = input(\"What's your name? \")\n",
    "print(\"Hello, \" + name + \"!\")\n",
    "\n",
    "# Now your program can talk to the user! Cool, right? 😎"
   ]
  },
  {
   "cell_type": "markdown",
   "metadata": {},
   "source": [
    "### 🚀 LevelUp : Dive Into the Challenge!"
   ]
  },
  {
   "cell_type": "code",
   "execution_count": null,
   "metadata": {},
   "outputs": [],
   "source": [
    "# stings practice questions  \n",
    "# Q1: Write a program to reverse a string without using the reverse function\n",
    "input_str = \"Python Programming\"\n",
    "\n",
    "# Q2: Given a string, count the number of vowels and consonants\n",
    "text = \"Hello World\"\n",
    "\n",
    "# Q3: Write a program to check if two strings are anagrams\n",
    "str1 = \"listen\"\n",
    "str2 = \"silent\"\n",
    "\n",
    "# list practice questions \n",
    "# Q1: Remove duplicates from a list while preserving order\n",
    "numbers = [1, 3, 3, 3, 6, 2, 3, 5]\n",
    "\n",
    "# Q2: Find the secnd largest number in a list withut using sort()\n",
    "nums = [10, 5, 8, 12, 3, 7, 5]\n",
    "\n",
    "# Q3: Rotate a list by k positions\n",
    "arr = [1, 2, 3, 4, 5]\n",
    "k = 2  # Output should be [4, 5, 1, 2, 3] \n",
    "\n",
    "# Tuple practice questions \n",
    "# Q1: Convert a list of tuples into a dictionary\n",
    "pairs = [(\"a\", 1), (\"b\", 2), (\"c\", 3)]\n",
    "\n",
    "# Q2: Find all pairs in a tuple list where sum is k\n",
    "tuple_list = [(1,2), (3,4), (5,6), (7,8)]\n",
    "k = 7\n",
    "\n",
    "# Q3: Swap elements in tuple of tuples\n",
    "tuple_of_tuples = ((1,2), (3,4), (5,6))\n",
    "\n",
    "# set practice questions \n",
    "# Q1: Find common elements between multiple lists using sets\n",
    "list1 = [1, 2, 3, 4, 5]\n",
    "list2 = [4, 5, 6, 7, 8]\n",
    "list3 = [5, 6, 7, 8, 9]\n",
    "\n",
    "# Q2: Remove all vowels from a sting using sets\n",
    "text = \"Hello World\"\n",
    "\n",
    "# Q3: Find symmetric difference between two lists\n",
    "list1 = [1, 2, 3, 4, 5]\n",
    "list2 = [4, 5, 6, 7, 8] \n",
    "\n",
    "# dictionary practice questions \n",
    "# Q1: Group items by their first letter\n",
    "words = ['apple', 'ant', 'banana', 'bat', 'cat']\n",
    "\n",
    "# Q2: Merge two dictionaries with summing common values\n",
    "dict1 = {'a': 1, 'b': 2, 'c': 3}\n",
    "dict2 = {'b': 3, 'c': 4, 'd': 5}\n",
    "\n",
    "# Q3: Fid the most frequent character in a string using dictionary\n",
    "text = \"programming\""
   ]
  },
  {
   "cell_type": "markdown",
   "metadata": {},
   "source": [
    "### Comparision Operators "
   ]
  },
  {
   "cell_type": "code",
   "execution_count": 28,
   "metadata": {},
   "outputs": [
    {
     "data": {
      "text/plain": [
       "True"
      ]
     },
     "execution_count": 28,
     "metadata": {},
     "output_type": "execute_result"
    }
   ],
   "source": [
    "x = 5\n",
    "y = 10\n",
    "\n",
    "# Comparison operators\n",
    "x == y    # Equal to\n",
    "x != y    # Not equal to\n",
    "x > y     # Greater than\n",
    "x < y     # Less than\n",
    "x >= y    # Greater than or equal to\n",
    "x <= y    # Less than or equal to\n",
    "\n",
    "# Logical operators\n",
    "and    # Both conditions must be True\n",
    "or     # At least one condition must be True\n",
    "not    # Inverts the condition\n",
    "\n",
    "# Identity operators\n",
    "is     # Object identity comparison\n",
    "is not # Negative object identity\n",
    "\n",
    "# Membership operators\n",
    "in     # Check if value exists in sequence\n",
    "not in # Check if value doesn't exist in sequence"
   ]
  },
  {
   "cell_type": "markdown",
   "metadata": {},
   "source": [
    "### if else Statements \n"
   ]
  },
  {
   "cell_type": "code",
   "execution_count": 33,
   "metadata": {},
   "outputs": [
    {
     "ename": "IndentationError",
     "evalue": "expected an indented block after 'if' statement on line 3 (1417557395.py, line 5)",
     "output_type": "error",
     "traceback": [
      "\u001b[1;36m  Cell \u001b[1;32mIn[33], line 5\u001b[1;36m\u001b[0m\n\u001b[1;33m    else:\u001b[0m\n\u001b[1;37m    ^\u001b[0m\n\u001b[1;31mIndentationError\u001b[0m\u001b[1;31m:\u001b[0m expected an indented block after 'if' statement on line 3\n"
     ]
    }
   ],
   "source": [
    "# Basic if-else structure\n",
    "condition = True\n",
    "if condition:\n",
    "    # Code executed if condition is True\n",
    "else:\n",
    "    # Code executed if condition is False\n",
    "\n",
    "# Multiple conditions using elif\n",
    "if condition1:\n",
    "    # Executed if condition1 is True\n",
    "elif condition2:\n",
    "    # Executed if condition1 is False and condition2 is True\n",
    "else:\n",
    "    # Executed if all conditions are False\n",
    "\n",
    "# Nested if statements\n",
    "if outer_condition:\n",
    "    if inner_condition: # type: ignore\n",
    "        # Executed when both conditions are True\n",
    "    else:\n",
    "        # Executed when outer True, inner False"
   ]
  },
  {
   "cell_type": "code",
   "execution_count": 32,
   "metadata": {},
   "outputs": [
    {
     "name": "stdout",
     "output_type": "stream",
     "text": [
      "I'll get some chocolates! 🍫\n"
     ]
    }
   ],
   "source": [
    "# 🎈 Birthday Party Decision 🎂\n",
    "# You’re going to a birthday party, but what you bring depends on your budget!\n",
    "\n",
    "money = 20  # How much money you have\n",
    "\n",
    "if money >= 50:\n",
    "    print(\"I'll buy a big cake! 🎂\")\n",
    "elif money >= 20:\n",
    "    print(\"I'll get some chocolates! 🍫\")\n",
    "elif money >= 10:\n",
    "    print(\"I'll bring balloons! 🎈\")\n",
    "else:\n",
    "    print(\"I'll just bring my best wishes! 😃\")"
   ]
  },
  {
   "cell_type": "markdown",
   "metadata": {},
   "source": [
    "### For loop "
   ]
  },
  {
   "cell_type": "code",
   "execution_count": null,
   "metadata": {},
   "outputs": [
    {
     "name": "stdout",
     "output_type": "stream",
     "text": [
      "0 1 2 3 4 5 6 7 8 9 \n",
      "1 2 3 4 5 "
     ]
    }
   ],
   "source": [
    "# Print numbers from 0 to 9\n",
    "for i in range(10):\n",
    "    print(i, end=\" \")  # Output: 0 1 2 3 4 5 6 7 8 9\n",
    "\n",
    "print()  # For a new line\n",
    "\n",
    "# Print all elements of my_list\n",
    "for i in range(len(my_list)):\n",
    "    print(my_list[i], end=\" \")  # Output: 1 2 3 4 5\n"
   ]
  },
  {
   "cell_type": "code",
   "execution_count": 34,
   "metadata": {},
   "outputs": [
    {
     "name": "stdout",
     "output_type": "stream",
     "text": [
      "1\n",
      "2\n",
      "3\n",
      "4\n",
      "5\n",
      "0\n",
      "1\n",
      "2\n",
      "3\n",
      "4\n",
      "2\n",
      "3\n",
      "4\n",
      "0\n",
      "2\n",
      "4\n",
      "6\n",
      "8\n",
      "Index 0: 1\n",
      "Index 1: 2\n",
      "Index 2: 3\n",
      "Index 3: 4\n",
      "Index 4: 5\n"
     ]
    }
   ],
   "source": [
    "# Basic for loop\n",
    "sequence = [1, 2, 3, 4, 5]\n",
    "for item in sequence:\n",
    "    print(item)\n",
    "\n",
    "# Range-based for loop\n",
    "for i in range(5):    # 0 to 4\n",
    "    print(i)\n",
    "\n",
    "for i in range(2, 5): # 2 to 4\n",
    "    print(i)\n",
    "\n",
    "for i in range(0, 10, 2): # 0 to 9 with step 2\n",
    "    print(i)\n",
    "\n",
    "# Enumerate for index and value\n",
    "for index, value in enumerate(sequence):\n",
    "    print(f\"Index {index}: {value}\")"
   ]
  },
  {
   "cell_type": "markdown",
   "metadata": {},
   "source": []
  },
  {
   "cell_type": "markdown",
   "metadata": {},
   "source": [
    "### While loop "
   ]
  },
  {
   "cell_type": "code",
   "execution_count": null,
   "metadata": {},
   "outputs": [],
   "source": [
    "# Basic while loop\n",
    "while condition:\n",
    "    # Code block\n",
    "    # Make sure condition eventually becomes False\n",
    "\n",
    "# While loop with counter\n",
    "count = 0\n",
    "while count < 5:\n",
    "    print(count)\n",
    "    count += 1\n",
    "\n",
    "# Infinite loop with break\n",
    "while True:\n",
    "    if exit_condition:\n",
    "        break"
   ]
  },
  {
   "cell_type": "markdown",
   "metadata": {},
   "source": [
    "### Loop Control Statements "
   ]
  },
  {
   "cell_type": "code",
   "execution_count": null,
   "metadata": {},
   "outputs": [],
   "source": [
    "# Break - Exit the loop entirely\n",
    "for i in range(5):\n",
    "    if i == 3:\n",
    "        break    # Exit when i equals 3\n",
    "\n",
    "# Continue - Skip to next iteration\n",
    "for i in range(5):\n",
    "    if i == 3:\n",
    "        continue # Skip when i equals 3\n",
    "\n",
    "# Pass - Do nothing (placeholder)\n",
    "for i in range(5):\n",
    "    if i == 3:\n",
    "        pass    # Placeholder for future code "
   ]
  },
  {
   "cell_type": "code",
   "execution_count": null,
   "metadata": {},
   "outputs": [
    {
     "name": "stdout",
     "output_type": "stream",
     "text": [
      "X: 1, Y: 2\n",
      "X: 3, Y: 4\n"
     ]
    }
   ],
   "source": [
    "points = [(1, 2), (3, 4)] # thinks like this are cooordinates "
   ]
  },
  {
   "cell_type": "markdown",
   "metadata": {},
   "source": [
    "### Zip "
   ]
  },
  {
   "cell_type": "code",
   "execution_count": null,
   "metadata": {},
   "outputs": [],
   "source": [
    "# Zip multiple iterables\n",
    "names = ['Alice', 'Bob']\n",
    "ages = [25, 30]\n",
    "for name, age in zip(names, ages):\n",
    "    print(f\"{name} is {age} years old\")\n",
    "\n",
    "# Filter with list comprehension\n",
    "numbers = [1, 2, 3, 4, 5]\n",
    "evens = [x for x in numbers if x % 2 == 0]\n",
    "\n",
    "# Nested comprehensions\n",
    "matrix = [[i+j for j in range(3)] for i in range(3)]\n",
    "\n",
    "# Multiple conditions\n",
    "for num in numbers:\n",
    "    if num > 0:\n",
    "        if num % 2 == 0:\n",
    "            print(f\"{num} is positive and even\")\n",
    "        else:\n",
    "            print(f\"{num} is positive and odd\")"
   ]
  },
  {
   "cell_type": "code",
   "execution_count": null,
   "metadata": {},
   "outputs": [
    {
     "name": "stdout",
     "output_type": "stream",
     "text": [
      "Rahuyl  is cool and hfiie\n",
      "Dfalkahuyl  is cool and hfiie\n",
      "Dhlakdfjdfd df df\n"
     ]
    }
   ],
   "source": [
    "sentence =  [\"rahuyl  is cool and hfiie\" , \"dfalkahuyl  is cool and hfiie\" , 'dhlakdfjdfd df df'] \n",
    "for i in sentence:\n",
    "    def title_case(line=i):\n",
    "        return line[0].title() + line[1:]\n",
    "    print(title_case(i))"
   ]
  },
  {
   "cell_type": "code",
   "execution_count": null,
   "metadata": {},
   "outputs": [
    {
     "data": {
      "text/plain": [
       "'Rahuyl  Is Cool And Hfiie'"
      ]
     },
     "execution_count": 94,
     "metadata": {},
     "output_type": "execute_result"
    }
   ],
   "source": [
    "sete = \"rahuyl  is cool and hfiie\" \n",
    "sete.title()"
   ]
  }
 ],
 "metadata": {
  "kernelspec": {
   "display_name": "Python 3 (ipykernel)",
   "language": "python",
   "name": "python3"
  },
  "language_info": {
   "codemirror_mode": {
    "name": "ipython",
    "version": 3
   },
   "file_extension": ".py",
   "mimetype": "text/x-python",
   "name": "python",
   "nbconvert_exporter": "python",
   "pygments_lexer": "ipython3",
   "version": "3.10.9"
  }
 },
 "nbformat": 4,
 "nbformat_minor": 2
}
